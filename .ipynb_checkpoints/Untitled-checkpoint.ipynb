{
 "cells": [
  {
   "cell_type": "code",
   "execution_count": 1,
   "id": "5b9bae86",
   "metadata": {},
   "outputs": [],
   "source": [
    "from PyPDF2 import PdfFileReader , PdfFileWriter\n",
    "from pathlib import Path\n",
    "\n",
    "import spacy\n",
    "import re\n",
    "from spacy.language import Language\n",
    "\n",
    "from word2number import w2n"
   ]
  },
  {
   "cell_type": "code",
   "execution_count": 37,
   "id": "e96f816b",
   "metadata": {},
   "outputs": [],
   "source": [
    "chem = 'Chemistry/56-1-1 Chemistry.pdf' \n",
    "phy = 'Physics/55-1-2 Physics.pdf'\n",
    "bio = 'Biology/57-1-1 Biology.pdf'\n",
    "math = 'Mathematics/65-1-1 Mathematics.pdf'\n",
    "file_path = math"
   ]
  },
  {
   "cell_type": "code",
   "execution_count": 38,
   "id": "3009469f",
   "metadata": {},
   "outputs": [
    {
     "data": {
      "text/plain": [
       "{'/Author': 'admin',\n",
       " '/Creator': 'Microsoft® Word 2013',\n",
       " '/CreationDate': \"D:20200207114708+05'30'\",\n",
       " '/ModDate': \"D:20200207114708+05'30'\",\n",
       " '/Producer': 'Microsoft® Word 2013'}"
      ]
     },
     "execution_count": 38,
     "metadata": {},
     "output_type": "execute_result"
    }
   ],
   "source": [
    "pdf = PdfFileReader(file_path)\n",
    "pdf.documentInfo"
   ]
  },
  {
   "cell_type": "code",
   "execution_count": 39,
   "id": "dcd6240d",
   "metadata": {},
   "outputs": [
    {
     "data": {
      "text/plain": [
       "15"
      ]
     },
     "execution_count": 39,
     "metadata": {},
     "output_type": "execute_result"
    }
   ],
   "source": [
    "pdf.getNumPages()"
   ]
  },
  {
   "cell_type": "code",
   "execution_count": 40,
   "id": "fdb71e8b",
   "metadata": {
    "scrolled": true
   },
   "outputs": [],
   "source": [
    "page_1_object = pdf.getPage(0) # 0 is for page no 1\n",
    "pg1 = page_1_object.extractText()\n",
    "pg1 = pg1.replace('\\n','')\n",
    "pg1 = pg1.lower()"
   ]
  },
  {
   "cell_type": "code",
   "execution_count": 41,
   "id": "cc3add64",
   "metadata": {},
   "outputs": [],
   "source": [
    "subject = re.findall('physics|chemistry|mathematics|biology',pg1)"
   ]
  },
  {
   "cell_type": "code",
   "execution_count": 42,
   "id": "a557ded9",
   "metadata": {
    "scrolled": false
   },
   "outputs": [],
   "source": [
    "def get_required_page_text(file_path):\n",
    "    pdf = PdfFileReader(file_path)\n",
    "    page_text = ''\n",
    "    ls = []\n",
    "    for i in range(2,pdf.getNumPages(),2):\n",
    "#         print(i)\n",
    "        page_object = pdf.getPage(i)\n",
    "        text_1= page_object.extractText()\n",
    "        ls.append(text_1)\n",
    "        page_text = page_text+'\\t'+text_1\n",
    "    return page_text"
   ]
  },
  {
   "cell_type": "code",
   "execution_count": 43,
   "id": "d8d23909",
   "metadata": {},
   "outputs": [],
   "source": [
    "page_text = get_required_page_text(file_path)"
   ]
  },
  {
   "cell_type": "code",
   "execution_count": 44,
   "id": "a9f7204b",
   "metadata": {
    "scrolled": true
   },
   "outputs": [
    {
     "data": {
      "text/plain": [
       "'\\t \\n \\n \\n.\\n65/\\n1\\n/1\\n \\n3\\n \\nP.T.O.\\n \\nGeneral Instructions :\\n \\nRead the following instructions very carefully and strictly follow them :\\n \\n(i)\\n \\nThis question paper comprises \\nfour\\n \\nSections A, B, C and D\\n.\\n \\nThis question \\npaper carries \\n36\\n \\nquestions. \\nAll\\n \\nquestions \\nare compulsory.\\n \\n \\n(ii)\\n \\nSection A\\n \\n\\n \\nQ\\nuestions no. \\n1\\n \\nto \\n20\\n \\ncomprises of \\n20\\n \\nquestions of \\n1\\n \\nmark each\\n.\\n \\n(iii)\\n \\nSection B\\n \\n\\n \\nQ\\nuestions no. \\n21\\n \\nto \\n26\\n \\ncomprises of \\n6\\n \\nquestions of \\n2\\n \\nmarks each\\n.\\n \\n(iv\\n)\\n \\nSection C\\n \\n\\n \\nQ\\nuestions no. \\n27\\n \\nto \\n32\\n \\ncomprises of \\n6\\n \\nquestions of \\n4\\n \\nmarks\\n \\neach\\n.\\n \\n(v\\n)\\n \\nSection \\nD\\n \\n\\n \\nQ\\nuestions no. \\n33\\n \\nto \\n36\\n \\ncomprises of \\n4\\n \\nquestions of \\n6\\n \\nmarks each\\n.\\n \\n(v\\ni\\n)\\n \\nThere is no overall choice in the question paper. However, an internal choice \\nhas been provided in 3 questions of one mark, 2 questions of two marks, \\n \\n2 questions \\nof four marks and 2 questions of six marks. \\nOnly one of the choices \\nin such questions have to be attempted.\\n \\n \\n(v\\ni\\ni)\\n \\nIn addition to this, separate instructions are given with each section and \\nquestion, wherever necessary.\\n \\n \\n(\\nviii\\n)\\n \\nUse of calculators is \\nnot\\n \\npe\\nrmitted.\\n \\n \\nSECTION A\\n \\nQuestion number\\ns\\n \\n1 to 20 carry 1 mark each. \\n \\nQuestion number\\ns\\n \\n1 to 10 are multiple choice \\ntype \\nquestions. Select the correct option.\\n \\n1.\\n \\nIf A is a square matrix of order 3 and |A| = 5,  then the value of |2A\\n\\n| is \\n \\n \\n(A)\\n \\n\\n \\n10 \\n \\n(B)\\n \\n10 \\n \\n(C)\\n \\n\\n \\n40 \\n \\n \\n(D)\\n \\n40\\n \\n2.\\n \\nIf A is a square matrix such that  A\\n2\\n \\n= A,  then  (I \\n\\n \\nA)\\n3\\n \\n+ A  is equal to\\n \\n \\n(A)\\n \\nI \\n \\n(B)\\n \\n0 \\n \\n(C)\\n \\nI \\n\\n \\nA \\n \\n(D)\\n \\nI + A\\n \\n3\\n.\\n \\nThe principal value of  tan\\n\\n1\\n \\n(tan \\n)  is\\n \\n \\n(A)\\n \\n \\n \\n(B)\\n \\n \\n \\n(\\nC)\\n \\n \\n \\n(D)\\n \\n \\n\\t \\n \\n \\n.\\n65/\\n1\\n/1\\n \\n5\\n \\nP.T.O.\\n \\n4\\n.\\n \\nIf the projection of \\n \\n=\\n \\n\\n \\n2\\n \\n+\\n \\n3\\n \\non\\n \\n \\n= 2\\n+\\n \\n\\n \\nis zero, then the \\nvalue of \\n\\n \\nis \\n  \\n \\n \\n \\n(A)\\n \\n0 \\n \\n(B)\\n \\n1 \\n \\n(C)\\n \\n  \\n \\n(D)\\n \\n \\n5\\n.\\n \\nThe vector equation of the line passing through the point (\\n\\n1, 5, 4) and \\nperpendicular to the plane z = 0 is  \\n \\n \\n \\n(A)\\n \\n \\n=\\n \\n\\n \\n+\\n \\n5\\n \\n+\\n \\n4\\n \\n+ \\n\\n \\n(\\n+\\n \\n)\\n \\n(B)\\n \\n \\n=\\n \\n\\n \\n+\\n \\n5\\n \\n+\\n \\n(4 + \\n\\n) \\n \\n \\n(C)\\n \\n \\n=\\n \\n\\n \\n5\\n \\n\\n \\n4\\n \\n+ \\n\\n \\n \\n \\n(D)\\n \\n \\n=\\n \\n\\n \\n \\n6\\n.\\n \\nThe number of arbitrary constants\\n \\nin the particular solution of a \\ndifferential equation of second order is (are)  \\n \\n \\n \\n(A)\\n \\n0 \\n \\n(B)\\n \\n1 \\n \\n(C)\\n \\n2 \\n \\n(D)\\n \\n3\\n \\n7\\n.\\n \\n \\n \\nis equal to \\n \\n \\n(A)\\n \\n\\n \\n1 \\n \\n(B)\\n \\n0 \\n \\n(C)\\n \\n1 \\n \\n(D)\\n \\n2\\n \\n\\t \\n \\n \\n.\\n65/\\n1\\n/1\\n \\n7\\n \\nP.T.O.\\n \\n8\\n.\\n \\nThe length of the perpendicular drawn from the point \\n(4, \\n\\n \\n7, 3) on the \\n \\ny\\n-\\naxis is\\n \\n \\n \\n(A)\\n \\n3 units \\n \\n(B)\\n \\n4 units\\n \\n \\n(C)\\n \\n5 units\\n \\n \\n(D)\\n \\n7 units\\n \\n9\\n.\\n \\nIf A and B are two independent events with P(A) = \\n \\nand P(B) = \\n, then \\nP(B\\n\\n \\n|\\n \\nA) is equal to\\n \\n \\n(A)\\n \\n \\n \\n(B)\\n \\n \\n \\n(C)\\n \\n \\n \\n(D)\\n \\n1\\n \\n10\\n.\\n \\nThe corner points of the feasible region determined by the system of \\nlinear inequalities are (0, 0), (4, 0), (2, 4) and (0, 5). If the maximum value \\nof z = ax + by, where a, b > 0 occurs at b\\noth (2, 4) and (4, 0), then  \\n \\n \\n(A)\\n \\na = 2b \\n \\n(B)\\n \\n2a = b \\n \\n(C)\\n \\na = b \\n \\n(D)\\n \\n3a = b\\n \\n \\nFill in the blanks in question\\n \\nnumber\\ns\\n \\n11 to 15. \\n \\n \\n11\\n.\\n \\nA relation R in a set A is called __________, if (a\\n1\\n, a\\n2\\n) \\n\\n \\nR implies \\n \\n(a\\n2\\n, a\\n1\\n) \\n\\n \\nR, for all a\\n1\\n, a\\n2\\n \\n\\n \\nA.\\n \\n12\\n.\\n \\nThe greatest i\\nnteger function defined by f(x)\\n \\n=\\n \\n[x],\\n \\n0\\n \\n<\\n \\nx\\n \\n<\\n \\n2 is not \\ndifferentiable at x = ___________ . \\n \\n13\\n.\\n \\nIf A is a matrix of order 3\\n \\n\\n \\n2, then the order of the matrix A\\n\\n \\nis \\n___________ .\\n \\nOR\\n \\n \\nA square matrix A is said to be skew\\n-\\nsymmetric, if ___________ .\\n \\n \\n\\t \\n \\n \\n.\\n65/\\n1\\n/1\\n \\n9\\n \\nP.T.O.\\n \\n14\\n.\\n \\nThe equation of the normal to the curve y\\n2\\n \\n=\\n \\n8x at the origin is \\n____________ .\\n \\nOR\\n \\n \\nThe radius of a circle is increasing at the uniform rate of 3 cm/sec. A\\nt the \\ninstant when the radius of the circle is 2 cm, its area increases at the rate \\nof _____________ cm\\n2\\n/s. \\n \\n15\\n.\\n \\nThe position vectors of two points A and B are \\n \\n= 2\\n \\n\\n \\n \\n\\n \\n \\nand \\n \\n=\\n \\n2\\n \\n\\n \\n \\n+\\n \\n2\\n, respectively. The position vector of a point P which \\ndivides the line segment joining A and B in the ratio 2 : 1 is ___________ .\\n \\nQuestion\\n \\nnumber\\ns\\n \\n16 to 20 are very short answer type questions.\\n \\n \\n16\\n.\\n \\nIf  A = \\n, then find A (adj A).\\n \\n17\\n.\\n \\nFind : \\n \\n \\n \\n \\nOR\\n \\n \\nFind : \\n \\n \\n \\n18\\n.\\n \\nEvaluate : \\n \\n \\n \\n19\\n.\\n \\nTwo cards are drawn at \\nrandom and one\\n-\\nby\\n-\\none without replacement \\nfrom a well\\n-\\nshuffled pack of 52 playing cards. Find the probability that \\none card is red and the other is black.\\n \\n20\\n.\\n \\nFind :  \\n \\n \\n \\n\\t \\n \\n \\n.\\n65/\\n1\\n/1\\n \\n11\\n \\nP.T.O.\\n \\nSECTION B\\n \\nQuestion\\n \\nnumber\\ns\\n \\n21 to 26 carry 2 marks each.\\n \\n \\n21\\n.\\n \\nProve that \\n \\nsin\\n\\n1\\n \\n(2x \\n) = 2 cos\\n\\n1\\n \\nx, \\n \\n\\n \\nx \\n\\n \\n1.\\n \\nOR\\n \\n \\nConsider a bijective function f : R\\n+\\n \\n\\n \\n(7, \\n\\n) given by f(x\\n) = 16x\\n2\\n \\n+ 24x + 7, \\nwhere R\\n+\\n \\nis the set of all positive real numbers. Find the inverse function \\nof \\n \\nf.\\n \\n22\\n.\\n \\nIf  x = at\\n2\\n,  y = 2at, then find \\n.\\n \\n23\\n.\\n \\nFind the points on the curve y = x\\n3\\n \\n\\n \\n3x\\n2\\n \\n\\n \\n4x at which the tangent lines \\nare parallel \\nto the line 4x + y \\n\\n \\n3 = 0.\\n \\n24\\n.\\n \\nFind a unit vector perpendicular to each of the vectors \\n \\nand \\n \\nwhere\\n \\n \\n= 5\\n+\\n \\n6\\n \\n\\n \\n2\\n \\n \\nand\\n \\n \\n=\\n \\n7\\n+ 6\\n \\n+\\n \\n2\\n.\\n \\n \\n \\n \\n                       \\nOR\\n \\n \\nFind the volume of the parallelopiped whose adjacent edges are \\nrepresented by 2\\n, \\n\\n \\nand 3\\n, where\\n \\n \\n \\n= \\n\\n \\n \\n+\\n \\n2\\n,\\n \\n \\n \\n= \\n3\\n+\\n \\n4\\n \\n\\n \\n5\\n, and\\n \\n \\n \\n= \\n2\\n\\n \\n \\n+\\n \\n3\\n.\\n \\n \\n25\\n.\\n \\nFind the value of k so that the lines \\n \\nx = \\n\\n \\ny = kz \\n \\nand \\n \\nx \\n\\n \\n2 = 2y + 1 = \\n\\n \\nz + 1 are perpendicular to each other.\\n \\n26\\n.\\n \\nThe probability of findin\\ng a green signal on a busy crossing \\nX\\n \\nis 30%. \\nWhat is the probability of finding a green signal on \\nX\\n \\non two consecutive \\ndays out of three ? \\n \\n\\t \\n \\n \\n.\\n65/\\n1\\n/1\\n \\n13\\n \\nP.T.O.\\n \\nSECTION C\\n \\nQuestion\\n \\nnumber\\ns\\n \\n2\\n7 to 32 carry 4\\n \\nmarks each.\\n \\n \\n27\\n.\\n \\nLet N be the set of natural numbers and R be the relation on N \\n\\n \\nN \\ndefined by (a, b) R (c, d) iff ad = b\\nc for all a, b, c, d\\n \\n\\n \\nN. Show that R is an \\nequivalence relation.\\n \\n28\\n.\\n \\nIf  y = \\ne\\nx\\n2\\ncos x\\n \\n+ (cos x)\\nx\\n,  then find  \\n.\\n \\n29\\n.\\n \\nFind :\\n \\n \\n \\n \\n \\n30\\n.\\n \\nFind the general solution of the differential equation\\n \\n \\n \\ny\\n \\ne\\ny\\n \\ndx = (y\\n3\\n \\n+ 2x e\\ny\\n) dy\\n.\\n \\n \\nOR\\n \\n \\nFind the particular solution of the differential equation \\n \\n \\n \\nx \\n= y \\n\\n \\nx tan \\n,  given that  y = \\n \\nat x = 1.\\n \\n31\\n.\\n \\nA furniture trader deals in only two items \\n\\n \\nchairs and tables. He \\nhas \\n \\n<\\n \\n50,000 to invest and a space to store at most 35 items. A chair costs \\nhim \\n<\\n \\n1,000 and a table costs him \\n<\\n \\n2,000. The trader earns a profit of \\n \\n<\\n \\n150 and \\n<\\n \\n250 on a chair and table, respectively. Formulate the above \\nproblem as an LPP \\nto maximise the \\nprofit \\nand solve it graphically.    \\n \\n \\n32\\n.\\n \\nThere are two bags, I and II. Bag I contains 3 red and 5 black balls and \\n \\nBag II contains 4 red and 3 black balls. One ball is transferred randomly \\nfrom Bag I to Bag II and then a ball is drawn randomly from Bag II\\n. If \\nthe ball so drawn is found to be black in colour, then find the probability \\nthat the transferred ball is also black.\\n \\nOR\\n \\n \\nAn urn contains 5 red, 2 white and 3 black balls. Three balls are drawn, \\none\\n-\\nby\\n-\\none, at random without replacement. Find the proba\\nbility \\ndistribution of the number of white balls. Also\\n,\\n \\nfind the mean and the \\nvariance of the number of white balls drawn.\\n \\n\\t \\n \\n \\n.\\n65/\\n1\\n/1\\n \\n15\\n \\nP.T.O.\\n \\nSECTION D\\n \\nQuestion\\n \\nnumber\\ns\\n \\n33 to 36 carry 6\\n \\nmarks each.\\n \\n \\n3\\n3\\n.\\n \\nIf \\n \\nA =\\n \\n, then \\nfind A\\n\\n1\\n \\nand use it t\\no solve the \\nfollowing \\nsystem of \\nthe \\nequations :\\n \\n \\n \\nx + 2y \\n\\n \\n3z = \\n6\\n \\n \\n \\n3\\nx + \\n2\\ny \\n\\n \\n2z = \\n3\\n \\n \\n \\n \\n2\\nx \\n\\n \\ny \\n+\\n \\nz = \\n2\\n \\n \\n                         \\nOR\\n \\nUsing properties of determinants, prove that \\n \\n \\n=\\n \\n(a \\n\\n \\nb) (b \\n\\n \\nc) (c \\n\\n \\na) (a + b + c) (a\\n2\\n \\n+ b\\n2\\n \\n+ c\\n2\\n).\\n \\n34\\n.\\n \\nUsing integration, find the area of the region bounded by the triangle \\nwhose vertices are (2, \\n\\n \\n2), (4, 5) and (6, 2).\\n \\n \\n35\\n.\\n \\nShow that the height of the right circular cylinder of greatest vo\\nlume \\nwhich can be inscribed in a right circular cone of height h and radius r is \\none\\n-\\nthird of the height of the cone, and the greatest volume of the \\ncylinder is \\n \\ntimes the volume of the cone.\\n \\n36\\n.\\n \\nFind the equation of the plane tha\\nt contains the point A(2, 1, \\n\\n \\n1) and is \\nperpendicular to the line of intersection of the planes \\n2x + y \\n\\n \\nz = 3 and \\n \\nx + 2y + z = 2. Also find the angle between the plane thus obtained and \\nthe y\\n-\\naxis.\\n \\nOR\\n \\n \\nFind the distance of the point P(\\n\\n \\n2, \\n\\n \\n4, 7) from\\n \\nthe point of intersection \\nQ of the line \\n \\n=\\n \\n(3\\n\\n \\n2\\n \\n+\\n \\n6\\n)\\n \\n+\\n \\n\\n(2\\n\\n \\n \\n+\\n \\n2\\n) and the plane \\n \\n \\n.\\n \\n(\\n\\n \\n \\n+ \\n)\\n \\n=\\n \\n6. Also write the vector equation of the line PQ.\\n \\n \\n'"
      ]
     },
     "execution_count": 44,
     "metadata": {},
     "output_type": "execute_result"
    }
   ],
   "source": [
    "page_text"
   ]
  },
  {
   "cell_type": "code",
   "execution_count": 45,
   "id": "77c7fc9f",
   "metadata": {
    "run_control": {
     "marked": false
    },
    "scrolled": true
   },
   "outputs": [],
   "source": [
    "def clean_text(text_):   \n",
    "    text = re.sub(r'\\n\\d\\n \\nP\\.T\\.O\\.\\n|\\n\\d\\d\\n \\nP\\.T\\.O\\.\\n','',text_)\n",
    "    text = re.sub(r'\\n|\\\\n','',text)\n",
    "    text = re.sub('P.T.O', '',text)  \n",
    "    text = re.sub(r'\\.\\d\\d\\/\\d\\/\\d','',text )\n",
    "    text = re.sub(r'Note :  Select the most appropriate option from those given below each  question :','',text)\n",
    "    text = re.sub(r'Note :  Fill in the blanks with appropriate answer :','',text)\n",
    "#     text = re.sub(r'SECTION [A-Z]','', text)\n",
    "    text = text.lower()\n",
    "    \n",
    "    return text "
   ]
  },
  {
   "cell_type": "code",
   "execution_count": 46,
   "id": "ddf2abfe",
   "metadata": {},
   "outputs": [],
   "source": [
    "text = clean_text(page_text)"
   ]
  },
  {
   "cell_type": "code",
   "execution_count": 47,
   "id": "a1dd9674",
   "metadata": {
    "scrolled": true
   },
   "outputs": [
    {
     "name": "stdout",
     "output_type": "stream",
     "text": [
      "\t     general instructions : read the following instructions very carefully and strictly follow them : (i) this question paper comprises four sections a, b, c and d. this question paper carries 36 questions. \n",
      "\n",
      "all questions are compulsory. \n",
      "\n",
      " (ii) section a  questions no. 1 to 20 comprises of 20 questions of 1 mark each. \n",
      "\n",
      "(iii) section b \n",
      "\n",
      " questions no. 21 to 26 comprises of 6 questions of 2 marks each. \n",
      "\n",
      "(iv) section c  questions no. 27 to 32 comprises of 6 questions of 4 marks each. \n",
      "\n",
      "(v) section d \n",
      "\n",
      " questions no. 33 to 36 comprises of 4 questions of 6 marks each. \n",
      "\n",
      "(vi) there is no overall choice in the question paper. \n",
      "\n",
      "however, an internal choice has been provided in 3 questions of one mark, 2 questions of two marks,  2 questions of four marks and 2 questions of six marks. \n",
      "\n",
      "only one of the choices in such questions have to be attempted. \n",
      "\n",
      " (vii) in addition to this, separate instructions are given with each section and question, wherever necessary. \n",
      "\n",
      " (viii) use of calculators is not permitted. \n",
      "\n",
      " section a question numbers 1 to 20 carry 1 mark each. \n",
      "\n",
      " question numbers 1 to 10 are multiple choice type questions. \n",
      "\n",
      "select the correct option. \n",
      "\n",
      "1. \n",
      "\n",
      "if a is a square matrix of order 3 and |a| = 5,  then the value of |2a| is   (a)  10  (b) 10  (c)  40   (d) 40 2. \n",
      "\n",
      "if a is a square matrix such that  a2 = a,  then  (i  a)3 + a  is equal to  (a) i  (b) 0  (c) i  a  (d) i + a 3. \n",
      "\n",
      "the principal value of  tan1 (tan )  is  (a)   (b)   (c)   (d)  \t     4. \n",
      "\n",
      "if the projection of  =  2 + 3 on  = 2+  is zero, then the value of  is      (a) 0  (b) 1  (c)    (d)  5. \n",
      "\n",
      "the vector equation of the line passing through the point (1, 5, 4) and perpendicular to the plane z = 0 is     (a)  = \n",
      "\n",
      " + 5 + 4 +  (+ ) (b)  = \n",
      "\n",
      " + 5 + (4 + )   (c)  =  5  4 +    (d)  =   6. \n",
      "\n",
      "the number of arbitrary constants in the particular solution of a differential equation of second order is (are)     (a) 0  (b) 1  (c) 2  (d) 3 7. \n",
      "\n",
      "  is equal to   (a)  1  (b) 0 \n",
      "\n",
      " (c) 1  (d) 2 \t     8. \n",
      "\n",
      "the length of the perpendicular drawn from the point (4,  7, 3) on the  y-axis is   (a) 3 units  (b) 4 units  (c) 5 units  (d) 7 units 9. \n",
      "\n",
      "if a and b are two independent events with p(a) = \n",
      "\n",
      " and p(b) \n",
      "\n",
      "= , then p(b | a) is equal to  (a)   (b)   (c)   (d) 1 10. \n",
      "\n",
      "the corner points of the feasible region determined by the system of linear inequalities are (0, 0), (4, 0), (2, 4) and (0, 5). \n",
      "\n",
      "if the maximum value of z = ax + by, where a, b > 0 occurs at both (2, 4) and (4, 0), then    (a) a = 2b  (b) \n",
      "\n",
      "2a = b  (c) a = b  (d) 3a = b  fill in the blanks in question numbers 11 to 15. \n",
      "\n",
      "  11. \n",
      "\n",
      "a relation r in a set a is called __________, if (a1, a2)  r implies  (a2, a1)  r, for all a1, a2  a. 12. \n",
      "\n",
      "the greatest integer function defined by f(x) \n",
      "\n",
      "= \n",
      "\n",
      "[x], 0 < x < 2 is not differentiable at x = ___________ . \n",
      "\n",
      " 13. \n",
      "\n",
      "if a is a matrix of order 3  2, then the order of the matrix a is ___________ . \n",
      "\n",
      "or  a square matrix a is said to be skew-symmetric, if ___________ . \n",
      "\n",
      " \t     14. \n",
      "\n",
      "the equation of the normal to the curve y2 = \n",
      "\n",
      "8x at the origin is ____________ . \n",
      "\n",
      "or  the radius of a circle is increasing at the uniform rate of 3 cm/sec. \n",
      "\n",
      "at the instant when the radius of the circle is 2 cm, its area increases at the rate of _____________ \n",
      "\n",
      "cm2/s.  15. \n",
      "\n",
      "the position vectors of two points a and b are  = 2     and  = 2   + 2, respectively. \n",
      "\n",
      "the position vector of a point p which divides the line segment joining a and b in the ratio 2 : 1 is ___________ . \n",
      "\n",
      "question numbers 16 to 20 are very short answer type questions. \n",
      "\n",
      " 16. \n",
      "\n",
      "if  a = , then find a (adj a). \n",
      "\n",
      "17. \n",
      "\n",
      "find :     or  find :    18. \n",
      "\n",
      "evaluate :    19. \n",
      "\n",
      "two cards are drawn at random and one-by-one without replacement from a well-shuffled pack of 52 playing cards. \n",
      "\n",
      "find the probability that one card is red and the other is black. \n",
      "\n",
      "20. \n",
      "\n",
      "find :     \t     section b question numbers 21 to 26 carry 2 marks each. \n",
      "\n",
      " 21. prove that  sin1 (2x ) = 2 cos1 x,   x  1. or  consider a bijective function f : r+  (7, ) given by f(x) \n",
      "\n",
      "= \n",
      "\n",
      "16x2 + 24x + 7, where r+ is the set of all positive real numbers. \n",
      "\n",
      "find the inverse function of  f. 22. \n",
      "\n",
      "if  x = at2,  y = 2at, then find . \n",
      "\n",
      "23. \n",
      "\n",
      "find the points on the curve y = x3 \n",
      "\n",
      " 3x2  4x at which the tangent lines are parallel to the line 4x + y  3 = 0. \n",
      "\n",
      "24. \n",
      "\n",
      "find a unit vector perpendicular to each of the vectors  and  where  = 5+ 6  2  and  = \n",
      "\n",
      "7+ 6 + 2. \n",
      "\n",
      "                          or  find the volume of the parallelopiped whose adjacent edges are represented by 2,  and 3, where   =   + 2,   = 3+ 4  5, and   = 2  + 3. \n",
      "\n",
      " 25. find the value of k so that the lines  x =  y = kz  and  x  2 = 2y + 1 =  z + 1 are perpendicular to each other. \n",
      "\n",
      "26. \n",
      "\n",
      "the probability of finding a green signal on a busy crossing x is 30%. \n",
      "\n",
      "what is the probability of finding a green signal on x on two consecutive days out of three ? \n",
      "\n",
      " \t     section c question numbers 27 to 32 carry 4 marks each. \n",
      "\n",
      " 27. \n",
      "\n",
      "let n be the set of natural numbers and r be the relation on n  n defined by (a, b) r (c, d) \n",
      "\n",
      "iff ad = bc for all a, b, c, d  n. show that r is an equivalence relation. \n",
      "\n",
      "28. \n",
      "\n",
      "if  y = ex2cos x + (cos x)x,  then find  . \n",
      "\n",
      "29. \n",
      "\n",
      "find :     30. \n",
      "\n",
      "find the general solution of the differential equation   y ey dx = (y3 + 2x ey) dy. \n",
      "\n",
      " or  find the particular solution of the differential equation    x = \n",
      "\n",
      "y  x tan ,  given that  y =  at x = 1. 31. \n",
      "\n",
      "a furniture trader deals in only two items  chairs and tables. \n",
      "\n",
      "he has  < 50,000 to invest and a space to store at most 35 items. \n",
      "\n",
      "a chair costs him < 1,000 and a table costs him < 2,000. \n",
      "\n",
      "the trader earns a profit of  < 150 and < 250 on a chair and table, respectively. \n",
      "\n",
      "formulate the above problem as an lpp to maximise the profit and solve it graphically. \n",
      "\n",
      "     32. \n",
      "\n",
      "there are two bags, i and ii. \n",
      "\n",
      "bag i contains 3 red and 5 black balls and  bag ii contains 4 red and 3 black balls. \n",
      "\n",
      "one ball is transferred randomly from bag i to bag ii and then a ball is drawn randomly from bag ii. \n",
      "\n",
      "if the ball so drawn is found to be black in colour, then find the probability that the transferred ball is also black. \n",
      "\n",
      "or  an urn contains 5 red, 2 white and 3 black balls. \n",
      "\n",
      "three balls are drawn, one-by-one, at random without replacement. \n",
      "\n",
      "find the probability distribution of the number of white balls. \n",
      "\n",
      "also, find the mean and the variance of the number of white balls drawn. \n",
      "\n",
      "\t     section d question numbers 33 to 36 carry 6 marks each. \n",
      "\n",
      " 33. \n",
      "\n",
      "if  a = , then find a1 and use it to solve the following system of the equations :   x + 2y  3z = 6   3x + 2y  2z = 3    2x  y + z = 2                           or using properties of determinants, prove that   = \n",
      "\n",
      "(a  b) (b  c) (c  a) (a + b + c) (a2 + b2 + c2). \n",
      "\n",
      "34. \n",
      "\n",
      "using integration, find the area of the region bounded by the triangle whose vertices are (2,  2), (4, 5) and (6, 2). \n",
      "\n",
      " 35. show that the height of the right circular cylinder of greatest volume which can be inscribed in a right circular cone of height h and radius r is one-third of the height of the cone, and the greatest volume of the cylinder is  times the volume of the cone. \n",
      "\n",
      "36. find the equation of the plane that contains the point a(2, 1,  1) and is perpendicular to the line of intersection of the planes 2x + y  z = 3 and  x + 2y + z = 2. \n",
      "\n",
      "also find the angle between the plane thus obtained and the y-axis. \n",
      "\n",
      "or  find the distance of the point p( 2,  4, 7) from the point of intersection q of the line  = \n",
      "\n",
      "(3 2 + 6) + (2  + 2) and the plane   . \n",
      "\n",
      "(  + ) \n",
      "\n",
      "= 6. \n",
      "\n",
      "also write the vector equation of the line pq. \n",
      "\n",
      "  \n",
      "\n"
     ]
    }
   ],
   "source": [
    "nlp = spacy.load('en_core_web_sm')\n",
    "doc = nlp(text)\n",
    "for sent in doc.sents:\n",
    "    print(sent , '\\n')"
   ]
  },
  {
   "cell_type": "code",
   "execution_count": 48,
   "id": "b857eafe",
   "metadata": {},
   "outputs": [],
   "source": [
    "@Language.component(\"set_custom_conditions\")\n",
    "def set_custom_conditions(doc):\n",
    "\n",
    "    for token in doc:\n",
    "        if re.match(r'\\d' , token.text) and re.match(r'\\.' , doc[token.i+1].text):\n",
    "            doc[token.i ].is_sent_start = True\n",
    "            doc[token.i + 1].is_sent_start = False\n",
    "            \n",
    "            doc[token.i + 2].is_sent_start = True\n",
    "        if re.match('\\(' , token.text) and re.match('\\w' , doc[token.i+1].text) and re.match('\\)' , doc[token.i+2].text):\n",
    "            doc[token.i ].is_sent_start = True\n",
    "            doc[token.i + 1].is_sent_start = False\n",
    "            \n",
    "            doc[token.i +3].is_sent_start = True\n",
    "                   \n",
    "    return doc\n",
    "nlp.add_pipe(\"set_custom_conditions\", before=\"parser\")\n",
    "doc = nlp(text)\n"
   ]
  },
  {
   "cell_type": "code",
   "execution_count": 49,
   "id": "86f62aa1",
   "metadata": {
    "run_control": {
     "marked": false
    }
   },
   "outputs": [
    {
     "name": "stdout",
     "output_type": "stream",
     "text": [
      "\t     general instructions : read the following instructions very carefully and strictly follow them :\n",
      "(i)\n",
      "this question paper comprises four sections a, b, c and d. this question paper carries 36 questions.\n",
      "all questions are compulsory.\n",
      " \n",
      "(ii)\n",
      "section a  questions no. 1 to 20 comprises of 20 questions of 1 mark each.\n",
      "(iii)\n",
      "section b  questions\n",
      "no. 21 to 26 comprises of 6 questions of 2 marks each.\n",
      "(iv)\n",
      "section c  questions no. 27 to 32 comprises of 6 questions of 4 marks each.\n",
      "(v)\n",
      "section d\n",
      " questions no. 33 to 36 comprises of 4 questions of 6 marks each.\n",
      "(vi)\n",
      "there is no overall choice in the question paper.\n",
      "however, an internal choice has been provided in 3 questions of one mark, 2 questions of two marks,  2 questions of four marks and 2 questions of six marks.\n",
      "only one of the choices in such questions have to be attempted.\n",
      " \n",
      "(vii)\n",
      "in addition to this, separate instructions are given with each section and question, wherever necessary.\n",
      " \n",
      "(viii)\n",
      "use of calculators is not permitted.\n",
      " section a question numbers 1 to 20 carry 1 mark each.\n",
      " question numbers 1 to 10 are multiple choice type questions.\n",
      "select the correct option.\n",
      "1.\n",
      "if a is a square matrix of order 3 and |a| = 5,  then the value of |2a| is   \n",
      "(a)\n",
      " 10  \n",
      "(b)\n",
      "10  \n",
      "(c)\n",
      " 40   \n",
      "(d)\n",
      "40\n",
      "2.\n",
      "if a is a square matrix such that  a2 = a,  then  (i  a)3 + a  is equal to  \n",
      "(a)\n",
      "i  \n",
      "(b)\n",
      "0\n",
      " \n",
      "(c)\n",
      "i  a  \n",
      "(d)\n",
      "i +\n",
      "a\n",
      "3.\n",
      "the principal value of  tan1\n",
      "(tan )\n",
      " is  \n",
      "(a)\n",
      "  \n",
      "(b)\n",
      "  \n",
      "(c)\n",
      "  \n",
      "(d)\n",
      " \t     \n",
      "4.\n",
      "if the projection of  =  2 + 3 on  = 2+  is zero, then the value of  is      \n",
      "(a)\n",
      "0\n",
      " \n",
      "(b)\n",
      "1  \n",
      "(c)\n",
      "   \n",
      "(d)\n",
      " \n",
      "5.\n",
      "the vector equation of the line passing through the point (1, 5, 4) and perpendicular to the plane z = 0 is     \n",
      "(a)\n",
      " =\n",
      " + 5 + 4 +  (+ )\n",
      "(b)\n",
      " =\n",
      " + 5 + (4 + )   \n",
      "(c)\n",
      " =\n",
      " 5  4 +    \n",
      "(d)\n",
      " =   \n",
      "6.\n",
      "the number of arbitrary constants in the particular solution of a differential equation of second order is\n",
      "(are)\n",
      "    \n",
      "(a)\n",
      "0\n",
      " \n",
      "(b)\n",
      "1  \n",
      "(c)\n",
      "2  \n",
      "(d)\n",
      "3\n",
      "7.\n",
      "  is equal to   \n",
      "(a)\n",
      " 1  \n",
      "(b)\n",
      "0\n",
      " \n",
      "(c)\n",
      "1  \n",
      "(d)\n",
      "2 \t     \n",
      "8.\n",
      "the length of the perpendicular drawn from the point (4,  7, 3) on the  y-axis is   \n",
      "(a)\n",
      "3 units  \n",
      "(b)\n",
      "4 units  \n",
      "(c)\n",
      "5 units  \n",
      "(d)\n",
      "7 units\n",
      "9.\n",
      "if a and b are two independent events with p(a) =\n",
      " and p(b)\n",
      "= , then p(b | a) is equal to  \n",
      "(a)\n",
      "  \n",
      "(b)\n",
      "  \n",
      "(c)\n",
      "  \n",
      "(d)\n",
      "1\n",
      "10.\n",
      "the corner points of the feasible region determined by the system of linear inequalities are (0, 0), (4, 0), (2, 4) and (0, 5).\n",
      "if the maximum value of z = ax + by, where a, b > 0 occurs at both (2, 4) and (4, 0), then    \n",
      "(a)\n",
      "a = 2b  \n",
      "(b)\n",
      "2a = b  \n",
      "(c)\n",
      "a = b  \n",
      "(d)\n",
      "3a = b  fill in the blanks in question numbers 11 to\n",
      "15.\n",
      "  \n",
      "11.\n",
      "a relation r in a set a is called __________, if (a1, a2)  r implies  (a2, a1)  r, for all a1, a2  a.\n",
      "12.\n",
      "the greatest integer function defined by f(x)\n",
      "=\n",
      "[x], 0 < x < 2 is not differentiable at x = ___________ .\n",
      " \n",
      "13.\n",
      "if a is a matrix of order 3  2, then the order of the matrix a is ___________ .\n",
      "or  a square matrix a is said to be skew-symmetric, if ___________ .\n",
      " \t     \n",
      "14.\n",
      "the equation of the normal to the curve y2 =\n",
      "8x at the origin is ____________ .\n",
      "or  the radius of a circle is increasing at the uniform rate of 3 cm/sec.\n",
      "at the instant when the radius of the circle is 2 cm, its area increases at the rate of _____________\n",
      "cm2/s.  \n",
      "15.\n",
      "the position vectors of two points a and b are  = 2     and  = 2   + 2, respectively.\n",
      "the position vector of a point p which divides the line segment joining a and b in the ratio 2 : 1 is ___________ .\n",
      "question numbers 16 to 20 are very short answer type questions.\n",
      " \n",
      "16.\n",
      "if  a = , then find a (adj a).\n",
      "17.\n",
      "find :     or  find :    \n",
      "18.\n",
      "evaluate :    \n",
      "19.\n",
      "two cards are drawn at random and one-by-one without replacement from a well-shuffled pack of 52 playing cards.\n",
      "find the probability that one card is red and the other is black.\n",
      "20.\n",
      "find :     \t     section b question numbers 21 to 26 carry 2 marks each.\n",
      " \n",
      "21.\n",
      "prove that  sin1\n",
      "(2x )\n",
      "= 2 cos1 x,   x  \n",
      "1.\n",
      "or  consider a bijective function f : r+  (7, ) given by f(x) =\n",
      "16x2 + 24x + 7, where r+ is the set of all positive real numbers.\n",
      "find the inverse function of  f.\n",
      "22.\n",
      "if  x = at2,  y = 2at, then find .\n",
      "23.\n",
      "find the points on the curve y = x3\n",
      " 3x2  4x at which the tangent lines are parallel to the line 4x + y  3 =\n",
      "0.\n",
      "24.\n",
      "find a unit vector perpendicular to each of the vectors  and  where  = 5+ 6  2  and  =\n",
      "7+ 6 +\n",
      "2.\n",
      "                          or  find the volume of the parallelopiped whose adjacent edges are represented by 2,  and 3, where   =   + 2,   = 3+ 4  5, and   = 2  +\n",
      "3.\n",
      " \n",
      "25.\n",
      "find the value of k so that the lines  x =  y = kz  and  x  2 = 2y + 1 =  z + 1 are perpendicular to each other.\n",
      "26.\n",
      "the probability of finding a green signal on a busy crossing x is 30%.\n",
      "what is the probability of finding a green signal on x on two consecutive days out of three ?\n",
      " \t     section c question numbers 27 to 32 carry 4 marks each.\n",
      " \n",
      "27.\n",
      "let n be the set of natural numbers and r be the relation on n  n defined by (a, b) r (c, d)\n",
      "iff ad = bc for all a, b, c, d  n. show that r is an equivalence relation.\n",
      "28.\n",
      "if  y = ex2cos x + (cos x)x,  then find  .\n",
      "29.\n",
      "find :     \n",
      "30.\n",
      "find the general solution of the differential equation   y ey dx = (y3 + 2x ey) dy.\n",
      " or  find the particular solution of the differential equation    x =\n",
      "y  x tan ,  given that  y =  at x =\n",
      "1.\n",
      "31.\n",
      "a furniture trader deals in only two items  chairs and tables.\n",
      "he has  < 50,000 to invest and a space to store at most 35 items.\n",
      "a chair costs him < 1,000 and a table costs him <\n",
      "2,000.\n",
      "the trader earns a profit of  < 150 and < 250 on a chair and table, respectively.\n",
      "formulate the above problem as an lpp to maximise the profit and solve it graphically.\n",
      "     \n",
      "32.\n",
      "there are two bags, i and ii.\n",
      "bag i contains 3 red and 5 black balls and  bag ii contains 4 red and 3 black balls.\n",
      "one ball is transferred randomly from bag i to bag ii and then a ball is drawn randomly from bag ii.\n",
      "if the ball so drawn is found to be black in colour, then find the probability that the transferred ball is also black.\n",
      "or  an urn contains 5 red, 2 white and 3 black balls.\n",
      "three balls are drawn, one-by-one, at random without replacement.\n",
      "find the probability distribution of the number of white balls.\n",
      "also, find the mean and the variance of the number of white balls drawn.\n",
      "\t     section d question numbers 33 to 36 carry 6 marks each.\n",
      " \n",
      "33.\n",
      "if  a = , then find a1 and use it to solve the following system of the equations :   x + 2y  3z = 6   3x + 2y  2z = 3    2x  y + z = 2                           or using properties of determinants, prove that   =\n",
      "(a  b) (b  c) (c  a) (a + b + c) (a2 + b2 + c2).\n",
      "34.\n",
      "using integration, find the area of the region bounded by the triangle whose vertices are (2,  2), (4, 5) and (6, 2).\n",
      " \n",
      "35.\n",
      "show that the height of the right circular cylinder of greatest volume which can be inscribed in a right circular cone of height h and radius r is one-third of the height of the cone, and the greatest volume of the cylinder is  times the volume of the cone.\n",
      "36.\n",
      "find the equation of the plane that contains the point a(2, 1,  1) and is perpendicular to the line of intersection of the planes 2x + y  z = 3 and  x + 2y + z =\n",
      "2.\n",
      "also find the angle between the plane thus obtained and the y-axis.\n",
      "or  find the distance of the point p( 2,  4, 7) from the point of intersection q of the line  =\n",
      "(3 2 + 6) + (2  + 2) and the plane   .\n",
      "(  + )\n",
      "=\n",
      "6.\n",
      "also write the vector equation of the line pq.\n",
      " \n"
     ]
    }
   ],
   "source": [
    "\n",
    "for sent in doc.sents:\n",
    "    print(sent)\n"
   ]
  },
  {
   "cell_type": "code",
   "execution_count": 50,
   "id": "19813e38",
   "metadata": {
    "scrolled": true
   },
   "outputs": [],
   "source": [
    "def get_questions(doc):    \n",
    "    x = 1\n",
    "    start_list = []\n",
    "    end_list = []\n",
    "    for token in doc:\n",
    "            if re.match(r'\\d' , token.text) and re.match(r'\\.' , doc[token.i+1].text) :\n",
    "                    if token.text == str(x):\n",
    "    #                     print(token.text, token.i,'h')\n",
    "\n",
    "                        start_ = token.i\n",
    "                        start_list.append(start_)\n",
    "#                         print(start_,'j')\n",
    "                        x+=1\n",
    "                        for tk in doc[start_:]:\n",
    "                            if re.match(r'\\d' , tk.text) and re.match(r'\\.' , doc[tk.i+1].text) :\n",
    "                                if tk.text == str(x):\n",
    "\n",
    "    #                                 print(tk.text, tk.i,'\\n')\n",
    "                                    end_ = tk.i\n",
    "#                                     print(end_ , '\\n')\n",
    "                                    end_list.append(end_)\n",
    "                                    break\n",
    "    end_list.append(None)      \n",
    "\n",
    "    question_span = []\n",
    "    for i,j in zip(start_list,end_list):\n",
    "\n",
    "        question_span.append([i,j])\n",
    "\n",
    "    return question_span                           \n"
   ]
  },
  {
   "cell_type": "code",
   "execution_count": 51,
   "id": "0ec51e73",
   "metadata": {
    "scrolled": true
   },
   "outputs": [
    {
     "data": {
      "text/plain": [
       "[[251, 296],\n",
       " [296, 348],\n",
       " [348, 378],\n",
       " [378, 424],\n",
       " [424, 499],\n",
       " [499, 541],\n",
       " [541, 569],\n",
       " [569, 619],\n",
       " [619, 664],\n",
       " [664, 779],\n",
       " [779, 826],\n",
       " [826, 865],\n",
       " [865, 926],\n",
       " [926, 1012],\n",
       " [1012, 1086],\n",
       " [1086, 1101],\n",
       " [1101, 1111],\n",
       " [1111, 1116],\n",
       " [1116, 1157],\n",
       " [1157, 1175],\n",
       " [1175, 1237],\n",
       " [1237, 1253],\n",
       " [1253, 1286],\n",
       " [1286, 1364],\n",
       " [1364, 1403],\n",
       " [1403, 1454],\n",
       " [1454, 1509],\n",
       " [1509, 1527],\n",
       " [1527, 1532],\n",
       " [1532, 1586],\n",
       " [1586, 1669],\n",
       " [1669, 1820],\n",
       " [1820, 1907],\n",
       " [1907, 1945],\n",
       " [1945, 2001],\n",
       " [2001, None]]"
      ]
     },
     "execution_count": 51,
     "metadata": {},
     "output_type": "execute_result"
    }
   ],
   "source": [
    "ques_span = get_questions(doc)\n",
    "ques_span"
   ]
  },
  {
   "cell_type": "code",
   "execution_count": null,
   "id": "742503e8",
   "metadata": {},
   "outputs": [],
   "source": []
  },
  {
   "cell_type": "code",
   "execution_count": 77,
   "id": "47cd5728",
   "metadata": {
    "scrolled": true
   },
   "outputs": [
    {
     "name": "stdout",
     "output_type": "stream",
     "text": [
      "1. if a is a square matrix of order 3 and |a| = 5,  then the value of |2a| is   (a)  10  (b) 10  (c)  40   (d) 40 \n",
      "\n",
      "2. if a is a square matrix such that  a2 = a,  then  (i  a)3 + a  is equal to  (a) i  (b) 0  (c) i  a  (d) i + a \n",
      "\n",
      "3. the principal value of  tan1 (tan )  is  (a)   (b)   (c)   (d)  \t      \n",
      "\n",
      "4. if the projection of  =  2 + 3 on  = 2+  is zero, then the value of  is      (a) 0  (b) 1  (c)    (d)   \n",
      "\n",
      "5. the vector equation of the line passing through the point (1, 5, 4) and perpendicular to the plane z = 0 is     (a)  =  + 5 + 4 +  (+ ) (b)  =  + 5 + (4 + )   (c)  =  5  4 +    (d)  =    \n",
      "\n",
      "6. the number of arbitrary constants in the particular solution of a differential equation of second order is (are)     (a) 0  (b) 1  (c) 2  (d) 3 \n",
      "\n",
      "7.   is equal to   (a)  1  (b) 0  (c) 1  (d) 2 \t      \n",
      "\n",
      "8. the length of the perpendicular drawn from the point (4,  7, 3) on the  y-axis is   (a) 3 units  (b) 4 units  (c) 5 units  (d) 7 units \n",
      "\n",
      "9. if a and b are two independent events with p(a) =  and p(b) = , then p(b | a) is equal to  (a)   (b)   (c)   (d) 1 \n",
      "\n",
      "10. the corner points of the feasible region determined by the system of linear inequalities are (0, 0), (4, 0), (2, 4) and (0, 5). if the maximum value of z = ax + by, where a, b > 0 occurs at both (2, 4) and (4, 0), then    (a) a = 2b  (b) 2a = b  (c) a = b  (d) 3a = b  fill in the blanks in question numbers 11 to 15.    \n",
      "\n",
      "11. a relation r in a set a is called __________, if (a1, a2)  r implies  (a2, a1)  r, for all a1, a2  a. \n",
      "\n",
      "12. the greatest integer function defined by f(x) = [x], 0 < x < 2 is not differentiable at x = ___________ .   \n",
      "\n",
      "13. if a is a matrix of order 3  2, then the order of the matrix a is ___________ . or  a square matrix a is said to be skew-symmetric, if ___________ .  \t      \n",
      "\n",
      "14. the equation of the normal to the curve y2 = 8x at the origin is ____________ . or  the radius of a circle is increasing at the uniform rate of 3 cm/sec. at the instant when the radius of the circle is 2 cm, its area increases at the rate of _____________ cm2/s.   \n",
      "\n",
      "15. the position vectors of two points a and b are  = 2     and  = 2   + 2, respectively. the position vector of a point p which divides the line segment joining a and b in the ratio 2 : 1 is ___________ . question numbers 16 to 20 are very short answer type questions.   \n",
      "\n",
      "16. if  a = , then find a (adj a). \n",
      "\n",
      "17. find :     or  find :     \n",
      "\n",
      "18. evaluate :     \n",
      "\n",
      "19. two cards are drawn at random and one-by-one without replacement from a well-shuffled pack of 52 playing cards. find the probability that one card is red and the other is black. \n",
      "\n",
      "20. find :     \t     section b question numbers 21 to 26 carry 2 marks each.   \n",
      "\n",
      "21. prove that  sin1 (2x ) = 2 cos1 x,   x  1. or  consider a bijective function f : r+  (7, ) given by f(x) = 16x2 + 24x + 7, where r+ is the set of all positive real numbers. find the inverse function of  f. \n",
      "\n",
      "22. if  x = at2,  y = 2at, then find . \n",
      "\n",
      "23. find the points on the curve y = x3  3x2  4x at which the tangent lines are parallel to the line 4x + y  3 = 0. \n",
      "\n",
      "24. find a unit vector perpendicular to each of the vectors  and  where  = 5+ 6  2  and  = 7+ 6 + 2.                           or  find the volume of the parallelopiped whose adjacent edges are represented by 2,  and 3, where   =   + 2,   = 3+ 4  5, and   = 2  + 3.   \n",
      "\n",
      "25. find the value of k so that the lines  x =  y = kz  and  x  2 = 2y + 1 =  z + 1 are perpendicular to each other. \n",
      "\n",
      "26. the probability of finding a green signal on a busy crossing x is 30%. what is the probability of finding a green signal on x on two consecutive days out of three ?  \t     section c question numbers 27 to 32 carry 4 marks each.   \n",
      "\n",
      "27. let n be the set of natural numbers and r be the relation on n  n defined by (a, b) r (c, d) iff ad = bc for all a, b, c, d  n. show that r is an equivalence relation. \n",
      "\n",
      "28. if  y = ex2cos x + (cos x)x,  then find  . \n",
      "\n",
      "29. find :      \n",
      "\n",
      "30. find the general solution of the differential equation   y ey dx = (y3 + 2x ey) dy.  or  find the particular solution of the differential equation    x = y  x tan ,  given that  y =  at x = 1. \n",
      "\n",
      "31. a furniture trader deals in only two items  chairs and tables. he has  < 50,000 to invest and a space to store at most 35 items. a chair costs him < 1,000 and a table costs him < 2,000. the trader earns a profit of  < 150 and < 250 on a chair and table, respectively. formulate the above problem as an lpp to maximise the profit and solve it graphically.       \n",
      "\n",
      "32. there are two bags, i and ii. bag i contains 3 red and 5 black balls and  bag ii contains 4 red and 3 black balls. one ball is transferred randomly from bag i to bag ii and then a ball is drawn randomly from bag ii. if the ball so drawn is found to be black in colour, then find the probability that the transferred ball is also black. or  an urn contains 5 red, 2 white and 3 black balls. three balls are drawn, one-by-one, at random without replacement. find the probability distribution of the number of white balls. also, find the mean and the variance of the number of white balls drawn. \t     section d question numbers 33 to 36 carry 6 marks each.   \n",
      "\n",
      "33. if  a = , then find a1 and use it to solve the following system of the equations :   x + 2y  3z = 6   3x + 2y  2z = 3    2x  y + z = 2                           or using properties of determinants, prove that   = (a  b) (b  c) (c  a) (a + b + c) (a2 + b2 + c2). \n",
      "\n",
      "34. using integration, find the area of the region bounded by the triangle whose vertices are (2,  2), (4, 5) and (6, 2).   \n",
      "\n",
      "35. show that the height of the right circular cylinder of greatest volume which can be inscribed in a right circular cone of height h and radius r is one-third of the height of the cone, and the greatest volume of the cylinder is  times the volume of the cone. \n",
      "\n",
      "36. find the equation of the plane that contains the point a(2, 1,  1) and is perpendicular to the line of intersection of the planes 2x + y  z = 3 and  x + 2y + z = 2. also find the angle between the plane thus obtained and the y-axis. or  find the distance of the point p( 2,  4, 7) from the point of intersection q of the line  = (3 2 + 6) + (2  + 2) and the plane   . (  + ) = 6. also write the vector equation of the line pq.   \n",
      "\n"
     ]
    }
   ],
   "source": [
    "for i in ques_span:\n",
    "    print(doc[(i[0]):(i[1])],'\\n')"
   ]
  },
  {
   "cell_type": "code",
   "execution_count": 53,
   "id": "a255b219",
   "metadata": {
    "scrolled": true
   },
   "outputs": [],
   "source": [
    "def get_instructions(doc):\n",
    "    start_list = []\n",
    "    end_list = []\n",
    "    stop = get_questions(doc)[0][0]\n",
    "    for token in doc[:stop]:\n",
    "            if re.match('\\(' , token.text) and re.match('\\w' , doc[token.i+1].text) and re.match('\\)' , doc[token.i+2].text):\n",
    "                start_ = token.i\n",
    "                start_list.append(start_)\n",
    "    #             print(start_)\n",
    "                for tk in doc[start_+1:stop]:\n",
    "                    if re.match('\\(' , tk.text) and re.match('\\w' , doc[tk.i+1].text) and re.match('\\)' , doc[tk.i+2].text):\n",
    "                        end_=tk.i\n",
    "                        end_list.append(end_)\n",
    "    #                     print(end_)\n",
    "                        break\n",
    "    end_list.append(stop)\n",
    "    instruction_span = []\n",
    "    for i,j in zip(start_list,end_list):\n",
    "\n",
    "        instruction_span.append([i,j])\n",
    "    return instruction_span"
   ]
  },
  {
   "cell_type": "code",
   "execution_count": 54,
   "id": "b7c9f96a",
   "metadata": {},
   "outputs": [],
   "source": [
    "instruction_span = get_instructions(doc)"
   ]
  },
  {
   "cell_type": "code",
   "execution_count": 55,
   "id": "a97467e1",
   "metadata": {},
   "outputs": [],
   "source": [
    "def question_list(span):    \n",
    "    question_text = []\n",
    "    for i in span:\n",
    "        text = (doc[(i[0]):(i[1])])\n",
    "        question_text.append(text)\n",
    "    return question_text"
   ]
  },
  {
   "cell_type": "code",
   "execution_count": 56,
   "id": "c4527b8d",
   "metadata": {
    "scrolled": true
   },
   "outputs": [],
   "source": [
    "question_text=question_list(get_questions(doc))"
   ]
  },
  {
   "cell_type": "code",
   "execution_count": 57,
   "id": "490f175d",
   "metadata": {},
   "outputs": [],
   "source": [
    "def instruction_list(span): \n",
    "    instruction_text = []\n",
    "    for i in span:\n",
    "        text = str(doc[(i[0]):(i[1])])\n",
    "        instruction_text.append(text)\n",
    "    return instruction_text"
   ]
  },
  {
   "cell_type": "code",
   "execution_count": 68,
   "id": "ef3ceeb5",
   "metadata": {},
   "outputs": [
    {
     "data": {
      "text/plain": [
       "['(ii) section a  questions no. 1 to 20 comprises of 20 questions of 1 mark each.',\n",
       " '(iii) section b  questions no. 21 to 26 comprises of 6 questions of 2 marks each.',\n",
       " '(iv) section c  questions no. 27 to 32 comprises of 6 questions of 4 marks each.',\n",
       " '(v) section d  questions no. 33 to 36 comprises of 4 questions of 6 marks each.']"
      ]
     },
     "execution_count": 68,
     "metadata": {},
     "output_type": "execute_result"
    }
   ],
   "source": [
    "instruction_text = instruction_list(get_instructions(doc))\n",
    "instruction_text = instruction_text[1:5]\n",
    "instruction_text"
   ]
  },
  {
   "cell_type": "code",
   "execution_count": 78,
   "id": "5d6b9747",
   "metadata": {},
   "outputs": [
    {
     "data": {
      "text/plain": [
       "['(ii) section a  questions no. 1 to 20 comprises of 20 questions of 1 mark each.',\n",
       " '(iii) section b  questions no. 21 to 26 comprises of 6 questions of 2 marks each.',\n",
       " '(iv) section c  questions no. 27 to 32 comprises of 6 questions of 4 marks each.',\n",
       " '(v) section d  questions no. 33 to 36 comprises of 4 questions of 6 marks each.']"
      ]
     },
     "execution_count": 78,
     "metadata": {},
     "output_type": "execute_result"
    }
   ],
   "source": [
    "# for i in range(len(instruction_text)):\n",
    "#      instruction_text[i] = nlp(instruction_text[i])\n",
    "   \n",
    "    \n",
    "for ele in instruction_text:\n",
    "        re.sub('one','1',ele)\n",
    "        re.sub('two','2',ele)\n",
    "        re.sub('three','3',ele)\n",
    "        re.sub('four','4',ele)\n",
    "        re.sub('five','5',ele)\n",
    "        \n",
    "instruction_text            "
   ]
  },
  {
   "cell_type": "code",
   "execution_count": 79,
   "id": "d7533fad",
   "metadata": {
    "scrolled": true
   },
   "outputs": [],
   "source": [
    "question_section = []\n",
    "i=1\n",
    "for txt in instruction_text:\n",
    "    for match in re.finditer(r'\\d\\d? to \\d\\d?', txt):\n",
    "        x =  re.findall('[0-9] marks?',txt)\n",
    "#         print(x)\n",
    " \n",
    "       \n",
    "        try:\n",
    "\n",
    "            x = x[0].split()\n",
    "#             print(x[0])\n",
    "        \n",
    "        except IndexError:\n",
    "            break\n",
    "    \n",
    "        \n",
    "        s = match.start()\n",
    "        e = match.end()\n",
    "        tx1 = txt[s:e]\n",
    "#         print (tx1)\n",
    "        globals()['question_sec_'+str(i)]=[]\n",
    "        globals()['question_sec_'+str(i)].append(txt)\n",
    "        \n",
    "        \n",
    "        for match2 in re.finditer(r'\\d\\d?', (tx1)):\n",
    "            s2 = match2.start()\n",
    "            e2 = match2.end()\n",
    "            tx2 = tx1[s2:e2]\n",
    "#             print(tx2)\n",
    "            globals()['question_sec_'+str(i)].append(int(tx2))\n",
    "        globals()['question_sec_'+str(i)].append(int(x[0]))\n",
    "            \n",
    "        question_section.append(globals()['question_sec_'+str(i)])\n",
    "        i+=1\n"
   ]
  },
  {
   "cell_type": "code",
   "execution_count": 80,
   "id": "e8b153ad",
   "metadata": {
    "scrolled": false
   },
   "outputs": [
    {
     "data": {
      "text/plain": [
       "[['(ii) section a  questions no. 1 to 20 comprises of 20 questions of 1 mark each.',\n",
       "  1,\n",
       "  20,\n",
       "  1],\n",
       " ['(iii) section b  questions no. 21 to 26 comprises of 6 questions of 2 marks each.',\n",
       "  21,\n",
       "  26,\n",
       "  2],\n",
       " ['(iv) section c  questions no. 27 to 32 comprises of 6 questions of 4 marks each.',\n",
       "  27,\n",
       "  32,\n",
       "  4],\n",
       " ['(v) section d  questions no. 33 to 36 comprises of 4 questions of 6 marks each.',\n",
       "  33,\n",
       "  36,\n",
       "  6]]"
      ]
     },
     "execution_count": 80,
     "metadata": {},
     "output_type": "execute_result"
    }
   ],
   "source": [
    "question_section"
   ]
  },
  {
   "cell_type": "code",
   "execution_count": 72,
   "id": "0dd4847f",
   "metadata": {},
   "outputs": [
    {
     "name": "stdout",
     "output_type": "stream",
     "text": [
      "['1 mark']\n",
      "['2 marks']\n",
      "['4 marks']\n",
      "['6 marks']\n",
      "['6', 'marks']\n"
     ]
    }
   ],
   "source": [
    "# for i in instruction_text:\n",
    "#     print(re.findall('([0-9] marks?)',i))\n",
    "# y = re.findall('([0-9] marks?)',instruction_text[3])\n",
    "\n",
    "# try:\n",
    "\n",
    "#     y = y[0].split()\n",
    "#     print(y)\n",
    "# except TypeError:\n",
    "#     print(y)"
   ]
  },
  {
   "cell_type": "code",
   "execution_count": 83,
   "id": "e2a1538d",
   "metadata": {
    "scrolled": true
   },
   "outputs": [
    {
     "name": "stdout",
     "output_type": "stream",
     "text": [
      "1\n",
      "1 20\n",
      "2\n",
      "21 26\n",
      "4\n",
      "27 32\n",
      "6\n",
      "33 36\n"
     ]
    }
   ],
   "source": [
    "            \n",
    "for ls in question_section:\n",
    "    marks = ls[3]\n",
    "    start = ls[1]\n",
    "    end = ls[2]\n",
    "    print(marks)\n",
    "    print(start, end)\n",
    "    if marks == 1:\n",
    "        tag = 'very_short'\n",
    "    elif marks == 2:\n",
    "        tag = 'short'\n",
    "    elif marks == 3 or marks == 4:\n",
    "        tag = 'long'\n",
    "    elif marks == 5 or marks == 6:\n",
    "        tag = 'very_long'\n",
    "    globals()[tag+'_questions']=[]\n",
    "       \n",
    "    for ele in question_text[start-1:end]:\n",
    "        globals()[tag+'_questions'].append(ele)\n",
    "    \n",
    "question_set = [very_short_questions , short_questions , long_questions , very_long_questions]    "
   ]
  },
  {
   "cell_type": "code",
   "execution_count": 84,
   "id": "9cb50d08",
   "metadata": {
    "scrolled": true
   },
   "outputs": [],
   "source": [
    "for ls,ps in zip(question_section,question_set):\n",
    "    ls.append(ps)"
   ]
  },
  {
   "cell_type": "code",
   "execution_count": 85,
   "id": "aac15abe",
   "metadata": {
    "run_control": {
     "marked": true
    }
   },
   "outputs": [],
   "source": [
    "question_section.insert(0,subject)"
   ]
  },
  {
   "cell_type": "code",
   "execution_count": 86,
   "id": "e7f3c374",
   "metadata": {
    "scrolled": true
   },
   "outputs": [
    {
     "data": {
      "text/plain": [
       "[['mathematics'],\n",
       " ['(ii) section a  questions no. 1 to 20 comprises of 20 questions of 1 mark each.',\n",
       "  1,\n",
       "  20,\n",
       "  1,\n",
       "  [1. if a is a square matrix of order 3 and |a| = 5,  then the value of |2a| is   (a)  10  (b) 10  (c)  40   (d) 40,\n",
       "   2. if a is a square matrix such that  a2 = a,  then  (i  a)3 + a  is equal to  (a) i  (b) 0  (c) i  a  (d) i + a,\n",
       "   3. the principal value of  tan1 (tan )  is  (a)   (b)   (c)   (d)  \t     ,\n",
       "   4. if the projection of  =  2 + 3 on  = 2+  is zero, then the value of  is      (a) 0  (b) 1  (c)    (d)  ,\n",
       "   5. the vector equation of the line passing through the point (1, 5, 4) and perpendicular to the plane z = 0 is     (a)  =  + 5 + 4 +  (+ ) (b)  =  + 5 + (4 + )   (c)  =  5  4 +    (d)  =   ,\n",
       "   6. the number of arbitrary constants in the particular solution of a differential equation of second order is (are)     (a) 0  (b) 1  (c) 2  (d) 3,\n",
       "   7.   is equal to   (a)  1  (b) 0  (c) 1  (d) 2 \t     ,\n",
       "   8. the length of the perpendicular drawn from the point (4,  7, 3) on the  y-axis is   (a) 3 units  (b) 4 units  (c) 5 units  (d) 7 units,\n",
       "   9. if a and b are two independent events with p(a) =  and p(b) = , then p(b | a) is equal to  (a)   (b)   (c)   (d) 1,\n",
       "   10. the corner points of the feasible region determined by the system of linear inequalities are (0, 0), (4, 0), (2, 4) and (0, 5). if the maximum value of z = ax + by, where a, b > 0 occurs at both (2, 4) and (4, 0), then    (a) a = 2b  (b) 2a = b  (c) a = b  (d) 3a = b  fill in the blanks in question numbers 11 to 15.   ,\n",
       "   11. a relation r in a set a is called __________, if (a1, a2)  r implies  (a2, a1)  r, for all a1, a2  a.,\n",
       "   12. the greatest integer function defined by f(x) = [x], 0 < x < 2 is not differentiable at x = ___________ .  ,\n",
       "   13. if a is a matrix of order 3  2, then the order of the matrix a is ___________ . or  a square matrix a is said to be skew-symmetric, if ___________ .  \t     ,\n",
       "   14. the equation of the normal to the curve y2 = 8x at the origin is ____________ . or  the radius of a circle is increasing at the uniform rate of 3 cm/sec. at the instant when the radius of the circle is 2 cm, its area increases at the rate of _____________ cm2/s.  ,\n",
       "   15. the position vectors of two points a and b are  = 2     and  = 2   + 2, respectively. the position vector of a point p which divides the line segment joining a and b in the ratio 2 : 1 is ___________ . question numbers 16 to 20 are very short answer type questions.  ,\n",
       "   16. if  a = , then find a (adj a).,\n",
       "   17. find :     or  find :    ,\n",
       "   18. evaluate :    ,\n",
       "   19. two cards are drawn at random and one-by-one without replacement from a well-shuffled pack of 52 playing cards. find the probability that one card is red and the other is black.,\n",
       "   20. find :     \t     section b question numbers 21 to 26 carry 2 marks each.  ]],\n",
       " ['(iii) section b  questions no. 21 to 26 comprises of 6 questions of 2 marks each.',\n",
       "  21,\n",
       "  26,\n",
       "  2,\n",
       "  [21. prove that  sin1 (2x ) = 2 cos1 x,   x  1. or  consider a bijective function f : r+  (7, ) given by f(x) = 16x2 + 24x + 7, where r+ is the set of all positive real numbers. find the inverse function of  f.,\n",
       "   22. if  x = at2,  y = 2at, then find .,\n",
       "   23. find the points on the curve y = x3  3x2  4x at which the tangent lines are parallel to the line 4x + y  3 = 0.,\n",
       "   24. find a unit vector perpendicular to each of the vectors  and  where  = 5+ 6  2  and  = 7+ 6 + 2.                           or  find the volume of the parallelopiped whose adjacent edges are represented by 2,  and 3, where   =   + 2,   = 3+ 4  5, and   = 2  + 3.  ,\n",
       "   25. find the value of k so that the lines  x =  y = kz  and  x  2 = 2y + 1 =  z + 1 are perpendicular to each other.,\n",
       "   26. the probability of finding a green signal on a busy crossing x is 30%. what is the probability of finding a green signal on x on two consecutive days out of three ?  \t     section c question numbers 27 to 32 carry 4 marks each.  ]],\n",
       " ['(iv) section c  questions no. 27 to 32 comprises of 6 questions of 4 marks each.',\n",
       "  27,\n",
       "  32,\n",
       "  4,\n",
       "  [27. let n be the set of natural numbers and r be the relation on n  n defined by (a, b) r (c, d) iff ad = bc for all a, b, c, d  n. show that r is an equivalence relation.,\n",
       "   28. if  y = ex2cos x + (cos x)x,  then find  .,\n",
       "   29. find :     ,\n",
       "   30. find the general solution of the differential equation   y ey dx = (y3 + 2x ey) dy.  or  find the particular solution of the differential equation    x = y  x tan ,  given that  y =  at x = 1.,\n",
       "   31. a furniture trader deals in only two items  chairs and tables. he has  < 50,000 to invest and a space to store at most 35 items. a chair costs him < 1,000 and a table costs him < 2,000. the trader earns a profit of  < 150 and < 250 on a chair and table, respectively. formulate the above problem as an lpp to maximise the profit and solve it graphically.      ,\n",
       "   32. there are two bags, i and ii. bag i contains 3 red and 5 black balls and  bag ii contains 4 red and 3 black balls. one ball is transferred randomly from bag i to bag ii and then a ball is drawn randomly from bag ii. if the ball so drawn is found to be black in colour, then find the probability that the transferred ball is also black. or  an urn contains 5 red, 2 white and 3 black balls. three balls are drawn, one-by-one, at random without replacement. find the probability distribution of the number of white balls. also, find the mean and the variance of the number of white balls drawn. \t     section d question numbers 33 to 36 carry 6 marks each.  ]],\n",
       " ['(v) section d  questions no. 33 to 36 comprises of 4 questions of 6 marks each.',\n",
       "  33,\n",
       "  36,\n",
       "  6,\n",
       "  [33. if  a = , then find a1 and use it to solve the following system of the equations :   x + 2y  3z = 6   3x + 2y  2z = 3    2x  y + z = 2                           or using properties of determinants, prove that   = (a  b) (b  c) (c  a) (a + b + c) (a2 + b2 + c2).,\n",
       "   34. using integration, find the area of the region bounded by the triangle whose vertices are (2,  2), (4, 5) and (6, 2).  ,\n",
       "   35. show that the height of the right circular cylinder of greatest volume which can be inscribed in a right circular cone of height h and radius r is one-third of the height of the cone, and the greatest volume of the cylinder is  times the volume of the cone.,\n",
       "   36. find the equation of the plane that contains the point a(2, 1,  1) and is perpendicular to the line of intersection of the planes 2x + y  z = 3 and  x + 2y + z = 2. also find the angle between the plane thus obtained and the y-axis. or  find the distance of the point p( 2,  4, 7) from the point of intersection q of the line  = (3 2 + 6) + (2  + 2) and the plane   . (  + ) = 6. also write the vector equation of the line pq.  ]]]"
      ]
     },
     "execution_count": 86,
     "metadata": {},
     "output_type": "execute_result"
    }
   ],
   "source": [
    "# In question_section 1st element is the subject and the rest are the question_sets\n",
    "# in each question_set the :      1st element is the instruction \n",
    "#                                 2nd element is question starting\n",
    "#                                 3rd element is question ending\n",
    "#                                 4th element is marks of each question in that set \n",
    "#                                 5th element is the list of all corresponding questions\n",
    "question_section"
   ]
  },
  {
   "cell_type": "code",
   "execution_count": null,
   "id": "588d06bf",
   "metadata": {},
   "outputs": [],
   "source": []
  },
  {
   "cell_type": "code",
   "execution_count": null,
   "id": "ab42c906",
   "metadata": {},
   "outputs": [],
   "source": []
  }
 ],
 "metadata": {
  "kernelspec": {
   "display_name": "Python 3 (ipykernel)",
   "language": "python",
   "name": "python3"
  },
  "language_info": {
   "codemirror_mode": {
    "name": "ipython",
    "version": 3
   },
   "file_extension": ".py",
   "mimetype": "text/x-python",
   "name": "python",
   "nbconvert_exporter": "python",
   "pygments_lexer": "ipython3",
   "version": "3.8.12"
  },
  "latex_envs": {
   "LaTeX_envs_menu_present": true,
   "autoclose": true,
   "autocomplete": true,
   "bibliofile": "biblio.bib",
   "cite_by": "apalike",
   "current_citInitial": 1,
   "eqLabelWithNumbers": true,
   "eqNumInitial": 1,
   "hotkeys": {
    "equation": "Ctrl-E",
    "itemize": "Ctrl-I"
   },
   "labels_anchors": false,
   "latex_user_defs": false,
   "report_style_numbering": false,
   "user_envs_cfg": false
  },
  "varInspector": {
   "cols": {
    "lenName": 16,
    "lenType": 16,
    "lenVar": 40
   },
   "kernels_config": {
    "python": {
     "delete_cmd_postfix": "",
     "delete_cmd_prefix": "del ",
     "library": "var_list.py",
     "varRefreshCmd": "print(var_dic_list())"
    },
    "r": {
     "delete_cmd_postfix": ") ",
     "delete_cmd_prefix": "rm(",
     "library": "var_list.r",
     "varRefreshCmd": "cat(var_dic_list()) "
    }
   },
   "types_to_exclude": [
    "module",
    "function",
    "builtin_function_or_method",
    "instance",
    "_Feature"
   ],
   "window_display": false
  }
 },
 "nbformat": 4,
 "nbformat_minor": 5
}
