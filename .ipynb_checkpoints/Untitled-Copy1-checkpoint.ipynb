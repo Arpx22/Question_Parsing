{
 "cells": [
  {
   "cell_type": "code",
   "execution_count": 1,
   "id": "5b9bae86",
   "metadata": {},
   "outputs": [],
   "source": [
    "from PyPDF2 import PdfFileReader , PdfFileWriter\n",
    "from pathlib import Path\n",
    "import os\n",
    "import spacy\n",
    "import re\n",
    "from spacy.language import Language\n",
    "\n",
    "import pandas as pd"
   ]
  },
  {
   "cell_type": "code",
   "execution_count": 2,
   "id": "e96f816b",
   "metadata": {},
   "outputs": [],
   "source": [
    "chem = 'Chemistry/56-1-1 Chemistry.pdf' \n",
    "phy = 'Physics/55-1-2 Physics.pdf'\n",
    "bio = 'Biology/57-1-1 Biology.pdf'\n",
    "math = 'Mathematics/65-1-1 Mathematics.pdf'\n",
    "file_path = phy"
   ]
  },
  {
   "cell_type": "code",
   "execution_count": 3,
   "id": "3009469f",
   "metadata": {},
   "outputs": [
    {
     "data": {
      "text/plain": [
       "{'/Author': 'admin',\n",
       " '/Creator': 'Microsoft® Word 2013',\n",
       " '/CreationDate': \"D:20200106161549+05'30'\",\n",
       " '/ModDate': \"D:20200106161549+05'30'\",\n",
       " '/Producer': 'Microsoft® Word 2013'}"
      ]
     },
     "execution_count": 3,
     "metadata": {},
     "output_type": "execute_result"
    }
   ],
   "source": [
    "pdf = PdfFileReader(file_path)\n",
    "pdf.documentInfo"
   ]
  },
  {
   "cell_type": "code",
   "execution_count": 4,
   "id": "dcd6240d",
   "metadata": {},
   "outputs": [
    {
     "data": {
      "text/plain": [
       "23"
      ]
     },
     "execution_count": 4,
     "metadata": {},
     "output_type": "execute_result"
    }
   ],
   "source": [
    "pdf.getNumPages()"
   ]
  },
  {
   "cell_type": "code",
   "execution_count": 5,
   "id": "fdb71e8b",
   "metadata": {
    "scrolled": true
   },
   "outputs": [],
   "source": [
    "page_1_object = pdf.getPage(0) # 0 is for page no 1\n",
    "pg1 = page_1_object.extractText()\n",
    "pg1 = pg1.replace('\\n','')\n",
    "pg1 = pg1.lower()"
   ]
  },
  {
   "cell_type": "code",
   "execution_count": 6,
   "id": "cc3add64",
   "metadata": {
    "run_control": {
     "marked": true
    }
   },
   "outputs": [],
   "source": [
    "def get_subject(file_path):\n",
    "    pdf = PdfFileReader(file_path)\n",
    "    page_1_object = pdf.getPage(0) # 0 is for page no 1\n",
    "    pg1 = page_1_object.extractText()\n",
    "    pg1 = pg1.replace('\\n','')\n",
    "    pg1 = pg1.lower()\n",
    "    subject = re.findall('physics|chemistry|mathematics|biology',pg1)\n",
    "    subject=subject[0]\n",
    "    return subject"
   ]
  },
  {
   "cell_type": "code",
   "execution_count": 7,
   "id": "a557ded9",
   "metadata": {
    "scrolled": false
   },
   "outputs": [],
   "source": [
    "def get_required_page_text(file_path):\n",
    "    pdf = PdfFileReader(file_path)\n",
    "    page_text = ''\n",
    "    ls = []\n",
    "    for i in range(2,pdf.getNumPages(),2):\n",
    "#         print(i)\n",
    "        page_object = pdf.getPage(i)\n",
    "        text_1= page_object.extractText()\n",
    "        ls.append(text_1)\n",
    "        page_text = page_text+'\\t'+text_1\n",
    "    return page_text"
   ]
  },
  {
   "cell_type": "code",
   "execution_count": 8,
   "id": "77c7fc9f",
   "metadata": {
    "run_control": {
     "marked": false
    },
    "scrolled": true
   },
   "outputs": [],
   "source": [
    "def clean_text(text_):   \n",
    "    text = re.sub(r'\\n\\d\\n \\nP\\.T\\.O\\.\\n|\\n\\d\\d\\n \\nP\\.T\\.O\\.\\n','',text_)\n",
    "    text = re.sub(r'\\n|\\\\n|\\t','',text)\n",
    "    text = re.sub('P.T.O', '',text)  \n",
    "    text = re.sub(r'\\.\\d\\d\\/\\d\\/\\d','',text )\n",
    "    text = re.sub(r'Note :  Select the most appropriate option from those given below each  question :','',text)\n",
    "    text = re.sub(r'Note :  Fill in the blanks with appropriate answer :','',text)\n",
    "#     text = re.sub(r'SECTION [A-Z]','', text)\n",
    "#     text = text.lower()\n",
    "    \n",
    "    return text "
   ]
  },
  {
   "cell_type": "code",
   "execution_count": 9,
   "id": "a1dd9674",
   "metadata": {
    "scrolled": true
   },
   "outputs": [],
   "source": [
    "nlp = spacy.load('en_core_web_sm')"
   ]
  },
  {
   "cell_type": "code",
   "execution_count": 10,
   "id": "b857eafe",
   "metadata": {},
   "outputs": [
    {
     "data": {
      "text/plain": [
       "<function __main__.set_custom_conditions(doc)>"
      ]
     },
     "execution_count": 10,
     "metadata": {},
     "output_type": "execute_result"
    }
   ],
   "source": [
    "@Language.component(\"set_custom_conditions\")\n",
    "def set_custom_conditions(doc):\n",
    "\n",
    "    for token in doc:\n",
    "        if re.match(r'\\d' , token.text) and re.match(r'\\.' , doc[token.i+1].text):\n",
    "            doc[token.i ].is_sent_start = True\n",
    "            doc[token.i + 1].is_sent_start = False\n",
    "            \n",
    "            doc[token.i + 2].is_sent_start = True\n",
    "        if re.match('\\(' , token.text) and re.match('\\w' , doc[token.i+1].text) and re.match('\\)' , doc[token.i+2].text):\n",
    "            doc[token.i ].is_sent_start = True\n",
    "            doc[token.i + 1].is_sent_start = False\n",
    "            \n",
    "            doc[token.i +3].is_sent_start = True\n",
    "                   \n",
    "    return doc\n",
    "nlp.add_pipe(\"set_custom_conditions\", before=\"parser\")\n",
    "\n"
   ]
  },
  {
   "cell_type": "code",
   "execution_count": 11,
   "id": "64e6e3c1",
   "metadata": {},
   "outputs": [],
   "source": [
    "def get_sections(doc):\n",
    "    x = 1\n",
    "    section_start_list = []\n",
    "    section_end_list = []\n",
    "    for token in doc:\n",
    "         if re.match(r'SECTION' , token.text) and re.match(r'[A-Z]' , doc[token.i+1].text) :\n",
    "            \n",
    "            if (re.match(r'\\d\\d?' , doc[token.i+2].text) and re.match(r'\\.' , doc[token.i+3].text)) or (re.match(r'\\d\\d?' , doc[token.i+3].text) and re.match(r'\\.' , doc[token.i+4].text)):\n",
    "#                     print(token.text,doc[token.i+1],'f')\n",
    "                    \n",
    "                    section_start = token.i+2\n",
    "                    section_start_list.append(section_start)\n",
    "                    \n",
    "                    \n",
    "                    \n",
    "                    for tk in doc[section_start:]:\n",
    "                        if re.match(r'SECTION' , tk.text) and re.match(r'[A-Z]' , doc[tk.i+1].text) :\n",
    "                            section_end = tk.i-1\n",
    "                            section_end_list.append(section_end) \n",
    "                            break\n",
    "                    \n",
    "            elif re.match(r'Note|Read' , doc[token.i+2].text) :\n",
    "#                     print(token.text,doc[token.i+1],'h')\n",
    "                    \n",
    "                    section_start = token.i+2\n",
    "                    section_start_list.append(section_start)\n",
    "                    \n",
    "                    \n",
    "                    for tk in doc[section_start:]:\n",
    "                        if re.match(r'SECTION' , tk.text) and re.match(r'[A-Z]' , doc[tk.i+1].text) :\n",
    "                            section_end = tk.i-1\n",
    "                            section_end_list.append(section_end) \n",
    "                            break\n",
    "            \n",
    "            elif re.match(r'Read|Note' , doc[token.i+3].text):\n",
    "#                 print(token.text,doc[token.i+1])\n",
    "                section_start = token.i+3\n",
    "                section_start_list.append(section_start)\n",
    "                \n",
    "                for tk in doc[section_start:]:\n",
    "                    if re.match(r'SECTION' , tk.text) and re.match(r'[A-Z]' , doc[tk.i+1].text) :\n",
    "                        section_end = tk.i-1\n",
    "                        section_end_list.append(section_end)    \n",
    "                        break\n",
    "                \n",
    "    \n",
    "    section_end_list.append(None)          \n",
    "    return section_start_list , section_end_list\n",
    "                    \n"
   ]
  },
  {
   "cell_type": "code",
   "execution_count": 12,
   "id": "19813e38",
   "metadata": {
    "scrolled": true
   },
   "outputs": [],
   "source": [
    "def get_questions(doc):\n",
    "    x = 1\n",
    "    start_list = []\n",
    "    end_list = []\n",
    "\n",
    "    for token in doc:\n",
    "                if re.match(r'\\d' , token.text) and re.match(r'\\.' , doc[token.i+1].text) :\n",
    "#                         print(token.text, token.i,'h')\n",
    "\n",
    "                        if token.text == str(x):\n",
    "    #                         print(token.text, token.i,'h')\n",
    "\n",
    "                            start_ = token.i+2\n",
    "                            start_list.append(start_)\n",
    "    #                         print(start_list)\n",
    "\n",
    "#                             print(start_,'j')\n",
    "                            x+=1\n",
    "                            for tk in doc[start_:]:\n",
    "#                                 \n",
    "                                if re.match(r'Note|Questions',tk.text):\n",
    "#                                         print(tk.text)\n",
    "                                        end_ = tk.i\n",
    "#                                         print(end_ , '\\n')\n",
    "                                        end_list.append(end_)\n",
    "                                        break\n",
    "                                elif re.match(r'\\d' , tk.text) and re.match(r'\\.' , doc[tk.i+1].text) :\n",
    "                                    if tk.text == str(x):\n",
    "\n",
    "        #                                 print(tk.text, tk.i,'\\n')\n",
    "                                        end_ = tk.i\n",
    "    #                                     print(end_ , '\\n')\n",
    "                                        end_list.append(end_)\n",
    "                                        break\n",
    "                                \n",
    "    end_list.append(None)      \n",
    "\n",
    "    question_span = []\n",
    "    for i,j in zip(start_list,end_list):\n",
    "\n",
    "            question_span.append([i,j])\n",
    "    return question_span                           \n"
   ]
  },
  {
   "cell_type": "code",
   "execution_count": 13,
   "id": "a255b219",
   "metadata": {
    "scrolled": true
   },
   "outputs": [],
   "source": [
    "def get_instructions(doc):\n",
    "    start_list = []\n",
    "    end_list = []\n",
    "    stop = get_questions(doc)[0][0]\n",
    "    for token in doc[:stop]:\n",
    "            if re.match('\\(' , token.text) and re.match('\\w' , doc[token.i+1].text) and re.match('\\)' , doc[token.i+2].text):\n",
    "                start_ = token.i\n",
    "                start_list.append(start_)\n",
    "    #             print(start_)\n",
    "                for tk in doc[start_+1:stop]:\n",
    "                    if re.match('\\(' , tk.text) and re.match('\\w' , doc[tk.i+1].text) and re.match('\\)' , doc[tk.i+2].text):\n",
    "                        end_=tk.i\n",
    "                        end_list.append(end_)\n",
    "    #                     print(end_)\n",
    "                        break\n",
    "    end_list.append(stop)\n",
    "    instruction_span = []\n",
    "    for i,j in zip(start_list,end_list):\n",
    "\n",
    "        instruction_span.append([i,j])\n",
    "    return instruction_span"
   ]
  },
  {
   "cell_type": "code",
   "execution_count": 14,
   "id": "0ec51e73",
   "metadata": {
    "run_control": {
     "marked": false
    },
    "scrolled": false
   },
   "outputs": [],
   "source": [
    "# i=0\n",
    "# j=0\n",
    "# q_tag = []\n",
    "# q_tag_i = []\n",
    "# while j<len(end_list) and i<len(start_list)-1:\n",
    "        \n",
    "#         if start_list[i+1] != end_list[j]:\n",
    "#             print(i)\n",
    "#             q_tag_i.append(i)\n",
    "#             q_tag.append([i , end_list[i],start_list[i+1]])\n",
    "            \n",
    "#         j+=1\n",
    "#         i+=1"
   ]
  },
  {
   "cell_type": "code",
   "execution_count": 15,
   "id": "a97467e1",
   "metadata": {
    "run_control": {
     "marked": false
    }
   },
   "outputs": [],
   "source": [
    "def question_list(question_span,doc):    \n",
    "    question_text = []\n",
    "    for i in question_span:\n",
    "        text = (doc[(i[0]):(i[1])])\n",
    "        question_text.append(text)\n",
    "    return question_text"
   ]
  },
  {
   "cell_type": "code",
   "execution_count": 16,
   "id": "490f175d",
   "metadata": {},
   "outputs": [],
   "source": [
    "def instruction_list(instruction_span,doc): \n",
    "    instruction_text = []\n",
    "    for i in instruction_span:\n",
    "        text = str(doc[(i[0]):(i[1])])\n",
    "        instruction_text.append(text)\n",
    "    \n",
    "    for i in range(len(instruction_text)):\n",
    "        instruction_text[i]=re.sub('one','1', instruction_text[i])\n",
    "        instruction_text[i]=re.sub('two','2', instruction_text[i])\n",
    "        instruction_text[i]=re.sub('three','3', instruction_text[i])\n",
    "        instruction_text[i]=re.sub('four','4', instruction_text[i])\n",
    "        instruction_text[i]=re.sub('five','5', instruction_text[i])\n",
    "        instruction_text[i]=re.sub('six','6', instruction_text[i])\n",
    "    instruction_text = instruction_text[1:7]\n",
    "    \n",
    "    return instruction_text"
   ]
  },
  {
   "cell_type": "code",
   "execution_count": 17,
   "id": "d7533fad",
   "metadata": {
    "scrolled": true
   },
   "outputs": [],
   "source": [
    "def get_question_section(instruction_text):    \n",
    "    question_section = []\n",
    "    i=1\n",
    "    for txt in instruction_text:\n",
    "        for match in re.finditer(r'\\d\\d? to \\d\\d?', txt):\n",
    "            x =  re.findall('[0-9] marks?',txt)\n",
    "    #         print(x)\n",
    "\n",
    "\n",
    "            try:\n",
    "\n",
    "                x = x[0].split()\n",
    "    #             print(x[0])\n",
    "\n",
    "            except IndexError:\n",
    "                break\n",
    "\n",
    "\n",
    "            s = match.start()\n",
    "            e = match.end()\n",
    "            tx1 = txt[s:e]\n",
    "    #         print (tx1)\n",
    "            globals()['question_sec_'+str(i)]=[]\n",
    "            globals()['question_sec_'+str(i)].append(txt)\n",
    "\n",
    "\n",
    "            for match2 in re.finditer(r'\\d\\d?', (tx1)):\n",
    "                s2 = match2.start()\n",
    "                e2 = match2.end()\n",
    "                tx2 = tx1[s2:e2]\n",
    "    #             print(tx2)\n",
    "                globals()['question_sec_'+str(i)].append(int(tx2))\n",
    "            globals()['question_sec_'+str(i)].append(int(x[0]))\n",
    "\n",
    "            question_section.append(globals()['question_sec_'+str(i)])\n",
    "            i+=1\n",
    "    return question_section"
   ]
  },
  {
   "cell_type": "code",
   "execution_count": 18,
   "id": "e2a1538d",
   "metadata": {
    "run_control": {
     "marked": false
    },
    "scrolled": false
   },
   "outputs": [],
   "source": [
    "def get_all_questions(question_section,question_text,file_path):\n",
    "    all_questions=[]            \n",
    "    subject = get_subject(file_path)\n",
    "    for ls in range(len(question_section)):\n",
    "    #     print(question_section[ls][3])\n",
    "        marks = question_section[ls][3]\n",
    "        start = question_section[ls][1]\n",
    "        end = question_section[ls][2]\n",
    "    #     print(marks)\n",
    "    #     print(start, end)\n",
    "\n",
    "\n",
    "        if marks == 1:\n",
    "            tag = 'very_short'\n",
    "        elif marks == 2:\n",
    "            tag = 'short'\n",
    "        elif marks == 3 or marks == 4:\n",
    "            tag = 'long'\n",
    "        elif marks == 5 or marks == 6:\n",
    "            tag = 'very_long'\n",
    "        globals()[tag+'_questions']=[]\n",
    "\n",
    "        for ele in question_text[start-1:end]:\n",
    "    #         print(type(ele.text))\n",
    "\n",
    "\n",
    "                    e_text = re.sub(r'SECTION [A-Z]','', ele.text)\n",
    "                    globals()[tag+'_questions'].append(e_text)\n",
    "                    all_questions.append([e_text, marks , subject ,'{}_questions'.format(tag)])\n",
    "\n",
    "\n",
    "\n",
    "    #         e_text = re.sub(r'SECTION [A-Z]','', ele.text)\n",
    "\n",
    "    #         globals()[tag+'_questions'].append(e_text)\n",
    "    #         all_questions.append([e_text, marks , subject ,'{}_questions'.format(tag),ts])\n",
    "\n",
    "    question_set = [very_short_questions , short_questions , long_questions , very_long_questions]   \n",
    "    return all_questions"
   ]
  },
  {
   "cell_type": "code",
   "execution_count": 19,
   "id": "4a7a1003",
   "metadata": {
    "run_control": {
     "marked": false
    },
    "scrolled": true
   },
   "outputs": [],
   "source": [
    "# sec_ques_start_list = []\n",
    "# for ls in question_section:\n",
    "#     marks = ls[3]\n",
    "#     start = ls[1]\n",
    "#     end = ls[2]\n",
    "# #     print(marks)\n",
    "# #     print(start, end)\n",
    "#     for ele in range(len(question_span)):\n",
    "#         if start-1 == ele:\n",
    "#             sec_ques_start = question_span[ele][0]\n",
    "#             sec_ques_start_list.append(sec_ques_start)"
   ]
  },
  {
   "cell_type": "code",
   "execution_count": 20,
   "id": "ddf2abfe",
   "metadata": {
    "scrolled": true
   },
   "outputs": [],
   "source": [
    "def all_in_one(file_path):  \n",
    "    path = file_path\n",
    "    \n",
    "    page_text = get_required_page_text(path)\n",
    "\n",
    "    text = clean_text(page_text)\n",
    "    \n",
    "    doc = nlp(text)\n",
    "\n",
    "    section_start_list, section_end_list = get_sections(doc)\n",
    "\n",
    "    question_span = get_questions(doc)\n",
    "\n",
    "    instruction_span = get_instructions(doc)\n",
    "\n",
    "    question_text = question_list(question_span,doc)\n",
    "\n",
    "    instruction_text = instruction_list(instruction_span,doc)\n",
    "\n",
    "    question_section = get_question_section(instruction_text)\n",
    "\n",
    "    all_questions = get_all_questions(question_section,question_text,path)\n",
    "    \n",
    "    return all_questions"
   ]
  },
  {
   "cell_type": "code",
   "execution_count": 21,
   "id": "64c8711d",
   "metadata": {
    "scrolled": true
   },
   "outputs": [],
   "source": [
    "all_questions = all_in_one(file_path)"
   ]
  },
  {
   "cell_type": "code",
   "execution_count": 22,
   "id": "427dbe62",
   "metadata": {},
   "outputs": [
    {
     "data": {
      "text/plain": [
       "[['Photons of energies 1 eV and 2 eV are successively incident on a metallic surface of work function 0·5 eV. The ratio of kinetic energy of most energetic photoelectrons in the two cases will be 1 (A) 1 : 2 (B) 1 : 1 (C) 1 : 3 (D) 1 : 4',\n",
       "  1,\n",
       "  'physics',\n",
       "  'very_short_questions'],\n",
       " ['Which of the following statements is not correct according to Rutherford model ?  1 (A) Most of the space inside an atom is empty. (B) The electrons revolve around the nucleus under the influence of coulomb force acting on them. (C) Most part of the mass of the atom and its positive charge are concentrated at its centre. (D) The stability of atom was established by the model.',\n",
       "  1,\n",
       "  'physics',\n",
       "  'very_short_questions'],\n",
       " ['The resolving power of a telescope can be increased by increasing 1 (A) wavelength of light. (B) diameter of objective. (C) length of the tube. (D) focal length of eyepiece.',\n",
       "  1,\n",
       "  'physics',\n",
       "  'very_short_questions'],\n",
       " ['The magnetic dipole moment of a current carrying coil does not depend upon   1 (A) number of turns of the coil. (B) cross-sectional area of the coil. (C) current flowing in the coil. (D) material of the turns of the coil.     ',\n",
       "  1,\n",
       "  'physics',\n",
       "  'very_short_questions'],\n",
       " ['For a glass prism, the angle of minimum deviation will be smallest for the light of  1 (A) red colour. (B) blue colour. (C) yellow colour. (D) green colour.',\n",
       "  1,\n",
       "  'physics',\n",
       "  'very_short_questions'],\n",
       " ['A biconvex lens of glass having refractive index 1·47 is immersed in a liquid. It becomes invisible and behaves as a plane glass plate. The refractive index of the liquid is 1 (A) 1·47 (B) 1·62 (C) 1·33 (D) 1·51',\n",
       "  1,\n",
       "  'physics',\n",
       "  'very_short_questions'],\n",
       " ['The resistance of a metal wire increases with increasing temperature on account of  1 (A) decrease in free electron density. (B) decrease in relaxation time. (C) increase in mean free path. (D) increase in the mass of electron.  ',\n",
       "  1,\n",
       "  'physics',\n",
       "  'very_short_questions'],\n",
       " ['An electric dipole placed in a non-uniform electric field can experience 1 (A) a force but not a torque. (B) a torque but not a force.  (C) always a force and a torque. (D) neither a force nor a torque.     ',\n",
       "  1,\n",
       "  'physics',\n",
       "  'very_short_questions'],\n",
       " ['If the net electric flux through a closed surface is zero, then we can infer 1 (A) no net charge is enclosed by the surface. (B) uniform electric field exists within the surface. (C) electric potential varies from point to point inside the surface. (D) charge is present inside the surface.',\n",
       "  1,\n",
       "  'physics',\n",
       "  'very_short_questions'],\n",
       " ['Kirchhoffconservation of    1 (A) energy (B) charge (C) momentum (D) both energy and charge  ',\n",
       "  1,\n",
       "  'physics',\n",
       "  'very_short_questions'],\n",
       " ['A ray of light on passing through an equilateral glass prism, suffers a minimum deviation equal to the angle of the prism. The value of refractive index of the material of the prism is ___________ . 1',\n",
       "  1,\n",
       "  'physics',\n",
       "  'very_short_questions'],\n",
       " ['is always an ___________ multiple of de Broglie wavelength. 1 OR  In -decay, the parent and daughter nuclei have the same number of _____________ .  1',\n",
       "  1,\n",
       "  'physics',\n",
       "  'very_short_questions'],\n",
       " ['The number of turns of a solenoid are doubled without changing its length and area of cross-section. The self-inductance of the solenoid will become ___________ times. 1',\n",
       "  1,\n",
       "  'physics',\n",
       "  'very_short_questions'],\n",
       " ['Laminated iron sheets are used to minimize ___________  currents in the core of a transformer.  1',\n",
       "  1,\n",
       "  'physics',\n",
       "  'very_short_questions'],\n",
       " ['The magnetic field lines are ___________ by a diamagnetic substance. 1     ',\n",
       "  1,\n",
       "  'physics',\n",
       "  'very_short_questions'],\n",
       " ['Why cannot we use Si and Ge in fabrication of visible LEDs ? 1',\n",
       "  1,\n",
       "  'physics',\n",
       "  'very_short_questions'],\n",
       " ['The variation of the stopping potential (Vo) with the frequency (v) of the light incident on two different photosensitive surfaces M1 and M2 is shown in the figure. Identify the surface which has greater value of the work function. 1   ',\n",
       "  1,\n",
       "  'physics',\n",
       "  'very_short_questions'],\n",
       " ['How does an increase in doping concentration affect the width of depletion layer of a p-n junction diode ? 1',\n",
       "  1,\n",
       "  'physics',\n",
       "  'very_short_questions'],\n",
       " ['The nuclear radius of  is 3·6 fermi. Find the nuclear radius of . 1 OR  A proton and an electron have equal speeds. Find the ratio of de Broglie wavelengths associated with them.  1',\n",
       "  1,\n",
       "  'physics',\n",
       "  'very_short_questions'],\n",
       " ['How is displacement current produced between the plates of a parallel plate capacitor during charging ? 1  ',\n",
       "  1,\n",
       "  'physics',\n",
       "  'very_short_questions'],\n",
       " ['Two long straight parallel wires A and B separated by a distance d, carry equal current I flowing in same direction as shown in the figure.       (a) Find the magnetic field at a point P situated between them at a distance x from one wire. (b) Show graphically the variation of the magnetic field with distance x for 0 < x < d. 2     ',\n",
       "  2,\n",
       "  'physics',\n",
       "  'short_questions'],\n",
       " [' nth orbit of the revolving electron in a hydrogen atom.  2 OR (a) Write two main observations of photoelectric effect experiment  (b) Draw a graph showing variation of photocurrent with the anode potential of a photocell. 2',\n",
       "  2,\n",
       "  'physics',\n",
       "  'short_questions'],\n",
       " ['Define wavefront of a travelling wave. Using Huygens principle, obtain the law of refraction at a plane interface when light passes from a rarer to a denser medium.  2 OR   for a biconvex lens. 2',\n",
       "  2,\n",
       "  'physics',\n",
       "  'short_questions'],\n",
       " ['Explain the principle of working of a meter bridge. Draw the circuit diagram for determination of an unknown resistance using it.  2',\n",
       "  2,\n",
       "  'physics',\n",
       "  'short_questions'],\n",
       " [' p-n junction diode. How are the (a) width of depletion layer, and (b) value of potential barrier affected when the p-n junction is forward  biased ?  2',\n",
       "  2,\n",
       "  'physics',\n",
       "  'short_questions'],\n",
       " ['N small conducting liquid droplets, each of radius r, are charged to a potential V each. These droplets coalesce to form a single large drop without any charge leakage. Find the potential of the large drop.  2',\n",
       "  2,\n",
       "  'physics',\n",
       "  'short_questions'],\n",
       " ['Define activity of a sample of a radioactive substance. The value of the disintegration constant of a radioactive substance is 0·0693  h1. Find the time after which the activity of a sample of this substance reduces to  one-half that of its present value. 2     ',\n",
       "  2,\n",
       "  'physics',\n",
       "  'short_questions'],\n",
       " ['In a single slit diffraction experiment, light of wavelength  illuminates   (a) Show the intensity distribution in the pattern with the angular position .  (b) How are the intensity and angular width of central maxima affected when (i) width of slit is increased, and (ii) separation between slit and screen is decreased ? 3',\n",
       "  3,\n",
       "  'physics',\n",
       "  'long_questions'],\n",
       " ['With the help of a simple diagram, explain the working of a silicon solar cell, giving all three basic processes involved. Draw its I-V characteristic. 3',\n",
       "  3,\n",
       "  'physics',\n",
       "  'long_questions'],\n",
       " ['A resistor R and an inductor L are connected in series to a source  V = V0 sin t.  Find the (a) peak value of the voltage drops across R and across L, (b) phase difference between the applied voltage and current. Which of them is ahead ? 3',\n",
       "  3,\n",
       "  'physics',\n",
       "  'long_questions'],\n",
       " ['(a) Write the expression for the speed of light in a material medium of relative permittivity r and relative magnetic permeability r.  (b) Write the wavelength range and name of the electromagnetic waves which are used in (i) radar systems for aircraft navigation, and (ii) Earth satellites to observe the growth of the crops. 3',\n",
       "  3,\n",
       "  'physics',\n",
       "  'long_questions'],\n",
       " [' (a) Two cells of emf E1 and E2 have their  internal resistances r1 and r2, respectively. Deduce an expression for the equivalent emf and internal resistance of their parallel combination when connected across an external resistance R. Assume that the two cells are supporting each other.       (b) In case the two cells are identical, each of emf E = 5 V and internal resistance r = 2 , calculate the voltage across the external resistance R = 10 .   3',\n",
       "  3,\n",
       "  'physics',\n",
       "  'long_questions'],\n",
       " [' (a) Write an expression of magnetic moment associated with a  current (I) carrying circular coil of radius r having N turns.  (b) Consider the above mentioned coil placed in YZ plane with its centre at the origin. Derive expression for the value of magnetic field due to it at point (x, 0, 0). 3 OR (a) Define current sensitivity of a galvanometer. Write its expression. (b) A galvanometer has resistance G and shows full scale deflection for  current Ig. (i) How can it be converted into an ammeter to measure current up to I0 (I0 > Ig) ? (ii) What is the effective resistance of this ammeter ? 3',\n",
       "  3,\n",
       "  'physics',\n",
       "  'long_questions'],\n",
       " ['The nucleus , initially at rest, decays into  by emitting an  -particle    + energy.  The binding energies per nucleon of the parent nucleus, the daughter nucleus and -particle are 7·8 MeV,  7·835 MeV and 7·07 MeV, respectively. Assuming the daughter nucleus to be formed in the unexcited state and neglecting its share in the energy of the reaction, find the speed of the emitted -particle. (Mass of -particle = 6·68  1027 kg) 3       ',\n",
       "  3,\n",
       "  'physics',\n",
       "  'long_questions'],\n",
       " [' (a) Derive the expression for the torque acting on the rectangular current carrying coil of a galvanometer. Why is the magnetic field made radial ? (b) An -particle is accelerated through a potential difference of 10 kV and moves along x-axis. It enters in a region of uniform magnetic field B = 2  103 T acting along y-axis. Find the radius of its path. (Take mass of -particle = 6·4  1027 kg ) 5 OR (a) With the help of a labelled diagram, explain the working of a  step-up transformer. Give reasons to explain the following : (i) The core of the transformer is laminated. (ii) Thick copper wire is used in windings. (b) A conducting rod PQ of length 20 cm and resistance 0·1  rests on two smooth parallel rails of negligible resistance AA and CC. It can slide on the rails and the arrangement is positioned between the poles of a permanent magnet producing uniform magnetic field  B = 0·4 T. The rails, the rod and the magnetic field are in three mutually perpendicular directions as shown in the figure. If the ends A and C of the rails are short circuited, find the (i) external force required to move the rod with uniform velocity v = 10 cm/s, and (ii) power required to do so. 5    ',\n",
       "  5,\n",
       "  'physics',\n",
       "  'very_long_questions'],\n",
       " [' (a) Draw the ray diagram of an astronomical telescope when the final image is formed at infinity. Write the expression for the resolving power of the telescope.     (b) An astronomical telescope has an objective lens of focal length  20 m and eyepiece of focal length 1 cm. (i) Find the angular magnification of the telescope. (ii) If this telescope is used to view the Moon, find the diameter of the image formed by the objective lens. Given the diameter of the Moon is 3·5  106 m and radius of lunar orbit is 3·8  108 m. 5 OR (a) An object is placed in front of a concave mirror. It is observed that a virtual image is formed. Draw the ray diagram to show the image formation and hence derive the mirror equation .  (b) An object is placed 30 cm in front of a plano-convex lens with its spherical surface of radius of curvature 20 cm. If the refractive index of the material of the lens is 1·5, find the position and nature of the image formed.   5',\n",
       "  5,\n",
       "  'physics',\n",
       "  'very_long_questions'],\n",
       " [' (a) Using Gauss law, derive expression for electric field due to a spherical shell of uniform charge distribution  and radius R at a point lying at a distance x from the centre of shell, such that (i) 0 < x < R, and (ii) x > R. (b) An electric field is uniform and acts along + x direction in the region of positive x. It is also uniform  with the same magnitude but acts in  x direction in the region of negative x. The value of the field is  E = 200 N/C for x > 0 and E =  200 N/C for x < 0. A right circular cylinder of length 20 cm and radius 5 cm has its centre at the origin and its axis along the x-axis so that one flat face is at x = + 10 cm and the other is at x =  10 cm.  Find : (i) The net outward flux through the cylinder. (ii) The net charge present inside the cylinder. 5 OR     (a) Find the expression for the potential energy of a system of two point charges q1 and q2 located at  and , respectively in an external electric field . (b) Draw equipotential surfaces due to an isolated point charge ( q) and depict the electric field lines. (c) Three point charges + 1 C,  1 C and + 2 C are initially infinite distance apart. Calculate the work done in assembling these charges at the vertices of an equilateral triangle of side 10 cm. 5  ',\n",
       "  5,\n",
       "  'physics',\n",
       "  'very_long_questions']]"
      ]
     },
     "execution_count": 22,
     "metadata": {},
     "output_type": "execute_result"
    }
   ],
   "source": [
    "all_questions\n",
    "        "
   ]
  },
  {
   "cell_type": "code",
   "execution_count": null,
   "id": "eab3600d",
   "metadata": {},
   "outputs": [],
   "source": []
  },
  {
   "cell_type": "code",
   "execution_count": 23,
   "id": "5c38c36f",
   "metadata": {},
   "outputs": [],
   "source": [
    "df=pd.DataFrame(all_questions , columns = ['question_text','marks','subject','question_tag'], index = range(1,len(all_questions)+1))"
   ]
  },
  {
   "cell_type": "code",
   "execution_count": 24,
   "id": "b5828e49",
   "metadata": {},
   "outputs": [],
   "source": [
    "df.index.name = 'ID'"
   ]
  },
  {
   "cell_type": "code",
   "execution_count": 25,
   "id": "e3b8ec11",
   "metadata": {},
   "outputs": [],
   "source": [
    "pd.set_option('display.max_colwidth', None)"
   ]
  },
  {
   "cell_type": "code",
   "execution_count": 26,
   "id": "7f92dfb2",
   "metadata": {
    "scrolled": true
   },
   "outputs": [
    {
     "data": {
      "text/html": [
       "<div>\n",
       "<style scoped>\n",
       "    .dataframe tbody tr th:only-of-type {\n",
       "        vertical-align: middle;\n",
       "    }\n",
       "\n",
       "    .dataframe tbody tr th {\n",
       "        vertical-align: top;\n",
       "    }\n",
       "\n",
       "    .dataframe thead th {\n",
       "        text-align: right;\n",
       "    }\n",
       "</style>\n",
       "<table border=\"1\" class=\"dataframe\">\n",
       "  <thead>\n",
       "    <tr style=\"text-align: right;\">\n",
       "      <th></th>\n",
       "      <th>question_text</th>\n",
       "      <th>marks</th>\n",
       "      <th>subject</th>\n",
       "      <th>question_tag</th>\n",
       "    </tr>\n",
       "    <tr>\n",
       "      <th>ID</th>\n",
       "      <th></th>\n",
       "      <th></th>\n",
       "      <th></th>\n",
       "      <th></th>\n",
       "    </tr>\n",
       "  </thead>\n",
       "  <tbody>\n",
       "    <tr>\n",
       "      <th>1</th>\n",
       "      <td>Photons of energies 1 eV and 2 eV are successively incident on a metallic surface of work function 0·5 eV. The ratio of kinetic energy of most energetic photoelectrons in the two cases will be 1 (A) 1 : 2 (B) 1 : 1 (C) 1 : 3 (D) 1 : 4</td>\n",
       "      <td>1</td>\n",
       "      <td>physics</td>\n",
       "      <td>very_short_questions</td>\n",
       "    </tr>\n",
       "    <tr>\n",
       "      <th>2</th>\n",
       "      <td>Which of the following statements is not correct according to Rutherford model ?  1 (A) Most of the space inside an atom is empty. (B) The electrons revolve around the nucleus under the influence of coulomb force acting on them. (C) Most part of the mass of the atom and its positive charge are concentrated at its centre. (D) The stability of atom was established by the model.</td>\n",
       "      <td>1</td>\n",
       "      <td>physics</td>\n",
       "      <td>very_short_questions</td>\n",
       "    </tr>\n",
       "    <tr>\n",
       "      <th>3</th>\n",
       "      <td>The resolving power of a telescope can be increased by increasing 1 (A) wavelength of light. (B) diameter of objective. (C) length of the tube. (D) focal length of eyepiece.</td>\n",
       "      <td>1</td>\n",
       "      <td>physics</td>\n",
       "      <td>very_short_questions</td>\n",
       "    </tr>\n",
       "    <tr>\n",
       "      <th>4</th>\n",
       "      <td>The magnetic dipole moment of a current carrying coil does not depend upon   1 (A) number of turns of the coil. (B) cross-sectional area of the coil. (C) current flowing in the coil. (D) material of the turns of the coil.</td>\n",
       "      <td>1</td>\n",
       "      <td>physics</td>\n",
       "      <td>very_short_questions</td>\n",
       "    </tr>\n",
       "    <tr>\n",
       "      <th>5</th>\n",
       "      <td>For a glass prism, the angle of minimum deviation will be smallest for the light of  1 (A) red colour. (B) blue colour. (C) yellow colour. (D) green colour.</td>\n",
       "      <td>1</td>\n",
       "      <td>physics</td>\n",
       "      <td>very_short_questions</td>\n",
       "    </tr>\n",
       "    <tr>\n",
       "      <th>6</th>\n",
       "      <td>A biconvex lens of glass having refractive index 1·47 is immersed in a liquid. It becomes invisible and behaves as a plane glass plate. The refractive index of the liquid is 1 (A) 1·47 (B) 1·62 (C) 1·33 (D) 1·51</td>\n",
       "      <td>1</td>\n",
       "      <td>physics</td>\n",
       "      <td>very_short_questions</td>\n",
       "    </tr>\n",
       "    <tr>\n",
       "      <th>7</th>\n",
       "      <td>The resistance of a metal wire increases with increasing temperature on account of  1 (A) decrease in free electron density. (B) decrease in relaxation time. (C) increase in mean free path. (D) increase in the mass of electron.</td>\n",
       "      <td>1</td>\n",
       "      <td>physics</td>\n",
       "      <td>very_short_questions</td>\n",
       "    </tr>\n",
       "    <tr>\n",
       "      <th>8</th>\n",
       "      <td>An electric dipole placed in a non-uniform electric field can experience 1 (A) a force but not a torque. (B) a torque but not a force.  (C) always a force and a torque. (D) neither a force nor a torque.</td>\n",
       "      <td>1</td>\n",
       "      <td>physics</td>\n",
       "      <td>very_short_questions</td>\n",
       "    </tr>\n",
       "    <tr>\n",
       "      <th>9</th>\n",
       "      <td>If the net electric flux through a closed surface is zero, then we can infer 1 (A) no net charge is enclosed by the surface. (B) uniform electric field exists within the surface. (C) electric potential varies from point to point inside the surface. (D) charge is present inside the surface.</td>\n",
       "      <td>1</td>\n",
       "      <td>physics</td>\n",
       "      <td>very_short_questions</td>\n",
       "    </tr>\n",
       "    <tr>\n",
       "      <th>10</th>\n",
       "      <td>Kirchhoffconservation of    1 (A) energy (B) charge (C) momentum (D) both energy and charge</td>\n",
       "      <td>1</td>\n",
       "      <td>physics</td>\n",
       "      <td>very_short_questions</td>\n",
       "    </tr>\n",
       "    <tr>\n",
       "      <th>11</th>\n",
       "      <td>A ray of light on passing through an equilateral glass prism, suffers a minimum deviation equal to the angle of the prism. The value of refractive index of the material of the prism is ___________ . 1</td>\n",
       "      <td>1</td>\n",
       "      <td>physics</td>\n",
       "      <td>very_short_questions</td>\n",
       "    </tr>\n",
       "    <tr>\n",
       "      <th>12</th>\n",
       "      <td>is always an ___________ multiple of de Broglie wavelength. 1 OR  In -decay, the parent and daughter nuclei have the same number of _____________ .  1</td>\n",
       "      <td>1</td>\n",
       "      <td>physics</td>\n",
       "      <td>very_short_questions</td>\n",
       "    </tr>\n",
       "    <tr>\n",
       "      <th>13</th>\n",
       "      <td>The number of turns of a solenoid are doubled without changing its length and area of cross-section. The self-inductance of the solenoid will become ___________ times. 1</td>\n",
       "      <td>1</td>\n",
       "      <td>physics</td>\n",
       "      <td>very_short_questions</td>\n",
       "    </tr>\n",
       "    <tr>\n",
       "      <th>14</th>\n",
       "      <td>Laminated iron sheets are used to minimize ___________  currents in the core of a transformer.  1</td>\n",
       "      <td>1</td>\n",
       "      <td>physics</td>\n",
       "      <td>very_short_questions</td>\n",
       "    </tr>\n",
       "    <tr>\n",
       "      <th>15</th>\n",
       "      <td>The magnetic field lines are ___________ by a diamagnetic substance. 1</td>\n",
       "      <td>1</td>\n",
       "      <td>physics</td>\n",
       "      <td>very_short_questions</td>\n",
       "    </tr>\n",
       "    <tr>\n",
       "      <th>16</th>\n",
       "      <td>Why cannot we use Si and Ge in fabrication of visible LEDs ? 1</td>\n",
       "      <td>1</td>\n",
       "      <td>physics</td>\n",
       "      <td>very_short_questions</td>\n",
       "    </tr>\n",
       "    <tr>\n",
       "      <th>17</th>\n",
       "      <td>The variation of the stopping potential (Vo) with the frequency (v) of the light incident on two different photosensitive surfaces M1 and M2 is shown in the figure. Identify the surface which has greater value of the work function. 1</td>\n",
       "      <td>1</td>\n",
       "      <td>physics</td>\n",
       "      <td>very_short_questions</td>\n",
       "    </tr>\n",
       "    <tr>\n",
       "      <th>18</th>\n",
       "      <td>How does an increase in doping concentration affect the width of depletion layer of a p-n junction diode ? 1</td>\n",
       "      <td>1</td>\n",
       "      <td>physics</td>\n",
       "      <td>very_short_questions</td>\n",
       "    </tr>\n",
       "    <tr>\n",
       "      <th>19</th>\n",
       "      <td>The nuclear radius of  is 3·6 fermi. Find the nuclear radius of . 1 OR  A proton and an electron have equal speeds. Find the ratio of de Broglie wavelengths associated with them.  1</td>\n",
       "      <td>1</td>\n",
       "      <td>physics</td>\n",
       "      <td>very_short_questions</td>\n",
       "    </tr>\n",
       "    <tr>\n",
       "      <th>20</th>\n",
       "      <td>How is displacement current produced between the plates of a parallel plate capacitor during charging ? 1</td>\n",
       "      <td>1</td>\n",
       "      <td>physics</td>\n",
       "      <td>very_short_questions</td>\n",
       "    </tr>\n",
       "    <tr>\n",
       "      <th>21</th>\n",
       "      <td>Two long straight parallel wires A and B separated by a distance d, carry equal current I flowing in same direction as shown in the figure.       (a) Find the magnetic field at a point P situated between them at a distance x from one wire. (b) Show graphically the variation of the magnetic field with distance x for 0 &lt; x &lt; d. 2</td>\n",
       "      <td>2</td>\n",
       "      <td>physics</td>\n",
       "      <td>short_questions</td>\n",
       "    </tr>\n",
       "    <tr>\n",
       "      <th>22</th>\n",
       "      <td>nth orbit of the revolving electron in a hydrogen atom.  2 OR (a) Write two main observations of photoelectric effect experiment  (b) Draw a graph showing variation of photocurrent with the anode potential of a photocell. 2</td>\n",
       "      <td>2</td>\n",
       "      <td>physics</td>\n",
       "      <td>short_questions</td>\n",
       "    </tr>\n",
       "    <tr>\n",
       "      <th>23</th>\n",
       "      <td>Define wavefront of a travelling wave. Using Huygens principle, obtain the law of refraction at a plane interface when light passes from a rarer to a denser medium.  2 OR   for a biconvex lens. 2</td>\n",
       "      <td>2</td>\n",
       "      <td>physics</td>\n",
       "      <td>short_questions</td>\n",
       "    </tr>\n",
       "    <tr>\n",
       "      <th>24</th>\n",
       "      <td>Explain the principle of working of a meter bridge. Draw the circuit diagram for determination of an unknown resistance using it.  2</td>\n",
       "      <td>2</td>\n",
       "      <td>physics</td>\n",
       "      <td>short_questions</td>\n",
       "    </tr>\n",
       "    <tr>\n",
       "      <th>25</th>\n",
       "      <td>p-n junction diode. How are the (a) width of depletion layer, and (b) value of potential barrier affected when the p-n junction is forward  biased ?  2</td>\n",
       "      <td>2</td>\n",
       "      <td>physics</td>\n",
       "      <td>short_questions</td>\n",
       "    </tr>\n",
       "    <tr>\n",
       "      <th>26</th>\n",
       "      <td>N small conducting liquid droplets, each of radius r, are charged to a potential V each. These droplets coalesce to form a single large drop without any charge leakage. Find the potential of the large drop.  2</td>\n",
       "      <td>2</td>\n",
       "      <td>physics</td>\n",
       "      <td>short_questions</td>\n",
       "    </tr>\n",
       "    <tr>\n",
       "      <th>27</th>\n",
       "      <td>Define activity of a sample of a radioactive substance. The value of the disintegration constant of a radioactive substance is 0·0693  h1. Find the time after which the activity of a sample of this substance reduces to  one-half that of its present value. 2</td>\n",
       "      <td>2</td>\n",
       "      <td>physics</td>\n",
       "      <td>short_questions</td>\n",
       "    </tr>\n",
       "    <tr>\n",
       "      <th>28</th>\n",
       "      <td>In a single slit diffraction experiment, light of wavelength  illuminates   (a) Show the intensity distribution in the pattern with the angular position .  (b) How are the intensity and angular width of central maxima affected when (i) width of slit is increased, and (ii) separation between slit and screen is decreased ? 3</td>\n",
       "      <td>3</td>\n",
       "      <td>physics</td>\n",
       "      <td>long_questions</td>\n",
       "    </tr>\n",
       "    <tr>\n",
       "      <th>29</th>\n",
       "      <td>With the help of a simple diagram, explain the working of a silicon solar cell, giving all three basic processes involved. Draw its I-V characteristic. 3</td>\n",
       "      <td>3</td>\n",
       "      <td>physics</td>\n",
       "      <td>long_questions</td>\n",
       "    </tr>\n",
       "    <tr>\n",
       "      <th>30</th>\n",
       "      <td>A resistor R and an inductor L are connected in series to a source  V = V0 sin t.  Find the (a) peak value of the voltage drops across R and across L, (b) phase difference between the applied voltage and current. Which of them is ahead ? 3</td>\n",
       "      <td>3</td>\n",
       "      <td>physics</td>\n",
       "      <td>long_questions</td>\n",
       "    </tr>\n",
       "    <tr>\n",
       "      <th>31</th>\n",
       "      <td>(a) Write the expression for the speed of light in a material medium of relative permittivity r and relative magnetic permeability r.  (b) Write the wavelength range and name of the electromagnetic waves which are used in (i) radar systems for aircraft navigation, and (ii) Earth satellites to observe the growth of the crops. 3</td>\n",
       "      <td>3</td>\n",
       "      <td>physics</td>\n",
       "      <td>long_questions</td>\n",
       "    </tr>\n",
       "    <tr>\n",
       "      <th>32</th>\n",
       "      <td>(a) Two cells of emf E1 and E2 have their  internal resistances r1 and r2, respectively. Deduce an expression for the equivalent emf and internal resistance of their parallel combination when connected across an external resistance R. Assume that the two cells are supporting each other.       (b) In case the two cells are identical, each of emf E = 5 V and internal resistance r = 2 , calculate the voltage across the external resistance R = 10 .   3</td>\n",
       "      <td>3</td>\n",
       "      <td>physics</td>\n",
       "      <td>long_questions</td>\n",
       "    </tr>\n",
       "    <tr>\n",
       "      <th>33</th>\n",
       "      <td>(a) Write an expression of magnetic moment associated with a  current (I) carrying circular coil of radius r having N turns.  (b) Consider the above mentioned coil placed in YZ plane with its centre at the origin. Derive expression for the value of magnetic field due to it at point (x, 0, 0). 3 OR (a) Define current sensitivity of a galvanometer. Write its expression. (b) A galvanometer has resistance G and shows full scale deflection for  current Ig. (i) How can it be converted into an ammeter to measure current up to I0 (I0 &gt; Ig) ? (ii) What is the effective resistance of this ammeter ? 3</td>\n",
       "      <td>3</td>\n",
       "      <td>physics</td>\n",
       "      <td>long_questions</td>\n",
       "    </tr>\n",
       "    <tr>\n",
       "      <th>34</th>\n",
       "      <td>The nucleus , initially at rest, decays into  by emitting an  -particle    + energy.  The binding energies per nucleon of the parent nucleus, the daughter nucleus and -particle are 7·8 MeV,  7·835 MeV and 7·07 MeV, respectively. Assuming the daughter nucleus to be formed in the unexcited state and neglecting its share in the energy of the reaction, find the speed of the emitted -particle. (Mass of -particle = 6·68  1027 kg) 3</td>\n",
       "      <td>3</td>\n",
       "      <td>physics</td>\n",
       "      <td>long_questions</td>\n",
       "    </tr>\n",
       "    <tr>\n",
       "      <th>35</th>\n",
       "      <td>(a) Derive the expression for the torque acting on the rectangular current carrying coil of a galvanometer. Why is the magnetic field made radial ? (b) An -particle is accelerated through a potential difference of 10 kV and moves along x-axis. It enters in a region of uniform magnetic field B = 2  103 T acting along y-axis. Find the radius of its path. (Take mass of -particle = 6·4  1027 kg ) 5 OR (a) With the help of a labelled diagram, explain the working of a  step-up transformer. Give reasons to explain the following : (i) The core of the transformer is laminated. (ii) Thick copper wire is used in windings. (b) A conducting rod PQ of length 20 cm and resistance 0·1  rests on two smooth parallel rails of negligible resistance AA and CC. It can slide on the rails and the arrangement is positioned between the poles of a permanent magnet producing uniform magnetic field  B = 0·4 T. The rails, the rod and the magnetic field are in three mutually perpendicular directions as shown in the figure. If the ends A and C of the rails are short circuited, find the (i) external force required to move the rod with uniform velocity v = 10 cm/s, and (ii) power required to do so. 5</td>\n",
       "      <td>5</td>\n",
       "      <td>physics</td>\n",
       "      <td>very_long_questions</td>\n",
       "    </tr>\n",
       "    <tr>\n",
       "      <th>36</th>\n",
       "      <td>(a) Draw the ray diagram of an astronomical telescope when the final image is formed at infinity. Write the expression for the resolving power of the telescope.     (b) An astronomical telescope has an objective lens of focal length  20 m and eyepiece of focal length 1 cm. (i) Find the angular magnification of the telescope. (ii) If this telescope is used to view the Moon, find the diameter of the image formed by the objective lens. Given the diameter of the Moon is 3·5  106 m and radius of lunar orbit is 3·8  108 m. 5 OR (a) An object is placed in front of a concave mirror. It is observed that a virtual image is formed. Draw the ray diagram to show the image formation and hence derive the mirror equation .  (b) An object is placed 30 cm in front of a plano-convex lens with its spherical surface of radius of curvature 20 cm. If the refractive index of the material of the lens is 1·5, find the position and nature of the image formed.   5</td>\n",
       "      <td>5</td>\n",
       "      <td>physics</td>\n",
       "      <td>very_long_questions</td>\n",
       "    </tr>\n",
       "    <tr>\n",
       "      <th>37</th>\n",
       "      <td>(a) Using Gauss law, derive expression for electric field due to a spherical shell of uniform charge distribution  and radius R at a point lying at a distance x from the centre of shell, such that (i) 0 &lt; x &lt; R, and (ii) x &gt; R. (b) An electric field is uniform and acts along + x direction in the region of positive x. It is also uniform  with the same magnitude but acts in  x direction in the region of negative x. The value of the field is  E = 200 N/C for x &gt; 0 and E =  200 N/C for x &lt; 0. A right circular cylinder of length 20 cm and radius 5 cm has its centre at the origin and its axis along the x-axis so that one flat face is at x = + 10 cm and the other is at x =  10 cm.  Find : (i) The net outward flux through the cylinder. (ii) The net charge present inside the cylinder. 5 OR     (a) Find the expression for the potential energy of a system of two point charges q1 and q2 located at  and , respectively in an external electric field . (b) Draw equipotential surfaces due to an isolated point charge ( q) and depict the electric field lines. (c) Three point charges + 1 C,  1 C and + 2 C are initially infinite distance apart. Calculate the work done in assembling these charges at the vertices of an equilateral triangle of side 10 cm. 5</td>\n",
       "      <td>5</td>\n",
       "      <td>physics</td>\n",
       "      <td>very_long_questions</td>\n",
       "    </tr>\n",
       "  </tbody>\n",
       "</table>\n",
       "</div>"
      ],
      "text/plain": [
       "                                                                                                                                                                                                                                                                                                                                                                                                                                                                                                                                                                                                                                                                                                                                                                                                                                                                                                                                                                                                                                                                                                                                                                                                                                                                                               question_text  \\\n",
       "ID                                                                                                                                                                                                                                                                                                                                                                                                                                                                                                                                                                                                                                                                                                                                                                                                                                                                                                                                                                                                                                                                                                                                                                                                                                                                                                             \n",
       "1                                                                                                                                                                                                                                                                                                                                                                                                                                                                                                                                                                                                                                                                                                                                                                                                                                                                                                                                                                                                                                                                 Photons of energies 1 eV and 2 eV are successively incident on a metallic surface of work function 0·5 eV. The ratio of kinetic energy of most energetic photoelectrons in the two cases will be 1 (A) 1 : 2 (B) 1 : 1 (C) 1 : 3 (D) 1 : 4   \n",
       "2                                                                                                                                                                                                                                                                                                                                                                                                                                                                                                                                                                                                                                                                                                                                                                                                                                                                                                                 Which of the following statements is not correct according to Rutherford model ?  1 (A) Most of the space inside an atom is empty. (B) The electrons revolve around the nucleus under the influence of coulomb force acting on them. (C) Most part of the mass of the atom and its positive charge are concentrated at its centre. (D) The stability of atom was established by the model.   \n",
       "3                                                                                                                                                                                                                                                                                                                                                                                                                                                                                                                                                                                                                                                                                                                                                                                                                                                                                                                                                                                                                                                                                                                              The resolving power of a telescope can be increased by increasing 1 (A) wavelength of light. (B) diameter of objective. (C) length of the tube. (D) focal length of eyepiece.   \n",
       "4                                                                                                                                                                                                                                                                                                                                                                                                                                                                                                                                                                                                                                                                                                                                                                                                                                                                                                                                                                                                                                                                         The magnetic dipole moment of a current carrying coil does not depend upon   1 (A) number of turns of the coil. (B) cross-sectional area of the coil. (C) current flowing in the coil. (D) material of the turns of the coil.        \n",
       "5                                                                                                                                                                                                                                                                                                                                                                                                                                                                                                                                                                                                                                                                                                                                                                                                                                                                                                                                                                                                                                                                                                                                               For a glass prism, the angle of minimum deviation will be smallest for the light of  1 (A) red colour. (B) blue colour. (C) yellow colour. (D) green colour.   \n",
       "6                                                                                                                                                                                                                                                                                                                                                                                                                                                                                                                                                                                                                                                                                                                                                                                                                                                                                                                                                                                                                                                                                        A biconvex lens of glass having refractive index 1·47 is immersed in a liquid. It becomes invisible and behaves as a plane glass plate. The refractive index of the liquid is 1 (A) 1·47 (B) 1·62 (C) 1·33 (D) 1·51   \n",
       "7                                                                                                                                                                                                                                                                                                                                                                                                                                                                                                                                                                                                                                                                                                                                                                                                                                                                                                                                                                                                                                                                      The resistance of a metal wire increases with increasing temperature on account of  1 (A) decrease in free electron density. (B) decrease in relaxation time. (C) increase in mean free path. (D) increase in the mass of electron.     \n",
       "8                                                                                                                                                                                                                                                                                                                                                                                                                                                                                                                                                                                                                                                                                                                                                                                                                                                                                                                                                                                                                                                                                            An electric dipole placed in a non-uniform electric field can experience 1 (A) a force but not a torque. (B) a torque but not a force.  (C) always a force and a torque. (D) neither a force nor a torque.        \n",
       "9                                                                                                                                                                                                                                                                                                                                                                                                                                                                                                                                                                                                                                                                                                                                                                                                                                                                                                                                                                                                         If the net electric flux through a closed surface is zero, then we can infer 1 (A) no net charge is enclosed by the surface. (B) uniform electric field exists within the surface. (C) electric potential varies from point to point inside the surface. (D) charge is present inside the surface.   \n",
       "10                                                                                                                                                                                                                                                                                                                                                                                                                                                                                                                                                                                                                                                                                                                                                                                                                                                                                                                                                                                                                                                                                                                                                                                                             Kirchhoffconservation of    1 (A) energy (B) charge (C) momentum (D) both energy and charge     \n",
       "11                                                                                                                                                                                                                                                                                                                                                                                                                                                                                                                                                                                                                                                                                                                                                                                                                                                                                                                                                                                                                                                                                                  A ray of light on passing through an equilateral glass prism, suffers a minimum deviation equal to the angle of the prism. The value of refractive index of the material of the prism is ___________ . 1   \n",
       "12                                                                                                                                                                                                                                                                                                                                                                                                                                                                                                                                                                                                                                                                                                                                                                                                                                                                                                                                                                                                                                                                                                                                                    is always an ___________ multiple of de Broglie wavelength. 1 OR  In -decay, the parent and daughter nuclei have the same number of _____________ .  1   \n",
       "13                                                                                                                                                                                                                                                                                                                                                                                                                                                                                                                                                                                                                                                                                                                                                                                                                                                                                                                                                                                                                                                                                                                                 The number of turns of a solenoid are doubled without changing its length and area of cross-section. The self-inductance of the solenoid will become ___________ times. 1   \n",
       "14                                                                                                                                                                                                                                                                                                                                                                                                                                                                                                                                                                                                                                                                                                                                                                                                                                                                                                                                                                                                                                                                                                                                                                                                         Laminated iron sheets are used to minimize ___________  currents in the core of a transformer.  1   \n",
       "15                                                                                                                                                                                                                                                                                                                                                                                                                                                                                                                                                                                                                                                                                                                                                                                                                                                                                                                                                                                                                                                                                                                                                                                                                               The magnetic field lines are ___________ by a diamagnetic substance. 1        \n",
       "16                                                                                                                                                                                                                                                                                                                                                                                                                                                                                                                                                                                                                                                                                                                                                                                                                                                                                                                                                                                                                                                                                                                                                                                                                                            Why cannot we use Si and Ge in fabrication of visible LEDs ? 1   \n",
       "17                                                                                                                                                                                                                                                                                                                                                                                                                                                                                                                                                                                                                                                                                                                                                                                                                                                                                                                                                                                                                                                              The variation of the stopping potential (Vo) with the frequency (v) of the light incident on two different photosensitive surfaces M1 and M2 is shown in the figure. Identify the surface which has greater value of the work function. 1      \n",
       "18                                                                                                                                                                                                                                                                                                                                                                                                                                                                                                                                                                                                                                                                                                                                                                                                                                                                                                                                                                                                                                                                                                                                                                                              How does an increase in doping concentration affect the width of depletion layer of a p-n junction diode ? 1   \n",
       "19                                                                                                                                                                                                                                                                                                                                                                                                                                                                                                                                                                                                                                                                                                                                                                                                                                                                                                                                                                                                                                                                                                                     The nuclear radius of  is 3·6 fermi. Find the nuclear radius of . 1 OR  A proton and an electron have equal speeds. Find the ratio of de Broglie wavelengths associated with them.  1   \n",
       "20                                                                                                                                                                                                                                                                                                                                                                                                                                                                                                                                                                                                                                                                                                                                                                                                                                                                                                                                                                                                                                                                                                                                                                                               How is displacement current produced between the plates of a parallel plate capacitor during charging ? 1     \n",
       "21                                                                                                                                                                                                                                                                                                                                                                                                                                                                                                                                                                                                                                                                                                                                                                                                                                                                                                                                                            Two long straight parallel wires A and B separated by a distance d, carry equal current I flowing in same direction as shown in the figure.       (a) Find the magnetic field at a point P situated between them at a distance x from one wire. (b) Show graphically the variation of the magnetic field with distance x for 0 < x < d. 2        \n",
       "22                                                                                                                                                                                                                                                                                                                                                                                                                                                                                                                                                                                                                                                                                                                                                                                                                                                                                                                                                                                                                                                                           nth orbit of the revolving electron in a hydrogen atom.  2 OR (a) Write two main observations of photoelectric effect experiment  (b) Draw a graph showing variation of photocurrent with the anode potential of a photocell. 2   \n",
       "23                                                                                                                                                                                                                                                                                                                                                                                                                                                                                                                                                                                                                                                                                                                                                                                                                                                                                                                                                                                                                                                                                                       Define wavefront of a travelling wave. Using Huygens principle, obtain the law of refraction at a plane interface when light passes from a rarer to a denser medium.  2 OR   for a biconvex lens. 2   \n",
       "24                                                                                                                                                                                                                                                                                                                                                                                                                                                                                                                                                                                                                                                                                                                                                                                                                                                                                                                                                                                                                                                                                                                                                                      Explain the principle of working of a meter bridge. Draw the circuit diagram for determination of an unknown resistance using it.  2   \n",
       "25                                                                                                                                                                                                                                                                                                                                                                                                                                                                                                                                                                                                                                                                                                                                                                                                                                                                                                                                                                                                                                                                                                                                                   p-n junction diode. How are the (a) width of depletion layer, and (b) value of potential barrier affected when the p-n junction is forward  biased ?  2   \n",
       "26                                                                                                                                                                                                                                                                                                                                                                                                                                                                                                                                                                                                                                                                                                                                                                                                                                                                                                                                                                                                                                                                                         N small conducting liquid droplets, each of radius r, are charged to a potential V each. These droplets coalesce to form a single large drop without any charge leakage. Find the potential of the large drop.  2   \n",
       "27                                                                                                                                                                                                                                                                                                                                                                                                                                                                                                                                                                                                                                                                                                                                                                                                                                                                                                                                                                                                                                    Define activity of a sample of a radioactive substance. The value of the disintegration constant of a radioactive substance is 0·0693  h1. Find the time after which the activity of a sample of this substance reduces to  one-half that of its present value. 2        \n",
       "28                                                                                                                                                                                                                                                                                                                                                                                                                                                                                                                                                                                                                                                                                                                                                                                                                                                                                                                                                                      In a single slit diffraction experiment, light of wavelength  illuminates   (a) Show the intensity distribution in the pattern with the angular position .  (b) How are the intensity and angular width of central maxima affected when (i) width of slit is increased, and (ii) separation between slit and screen is decreased ? 3   \n",
       "29                                                                                                                                                                                                                                                                                                                                                                                                                                                                                                                                                                                                                                                                                                                                                                                                                                                                                                                                                                                                                                                                                                                                                 With the help of a simple diagram, explain the working of a silicon solar cell, giving all three basic processes involved. Draw its I-V characteristic. 3   \n",
       "30                                                                                                                                                                                                                                                                                                                                                                                                                                                                                                                                                                                                                                                                                                                                                                                                                                                                                                                                                                                                                                                           A resistor R and an inductor L are connected in series to a source  V = V0 sin t.  Find the (a) peak value of the voltage drops across R and across L, (b) phase difference between the applied voltage and current. Which of them is ahead ? 3   \n",
       "31                                                                                                                                                                                                                                                                                                                                                                                                                                                                                                                                                                                                                                                                                                                                                                                                                                                                                                                                                                  (a) Write the expression for the speed of light in a material medium of relative permittivity r and relative magnetic permeability r.  (b) Write the wavelength range and name of the electromagnetic waves which are used in (i) radar systems for aircraft navigation, and (ii) Earth satellites to observe the growth of the crops. 3   \n",
       "32                                                                                                                                                                                                                                                                                                                                                                                                                                                                                                                                                                                                                                                                                                                                                                                                                                      (a) Two cells of emf E1 and E2 have their  internal resistances r1 and r2, respectively. Deduce an expression for the equivalent emf and internal resistance of their parallel combination when connected across an external resistance R. Assume that the two cells are supporting each other.       (b) In case the two cells are identical, each of emf E = 5 V and internal resistance r = 2 , calculate the voltage across the external resistance R = 10 .   3   \n",
       "33                                                                                                                                                                                                                                                                                                                                                                                                                                                                                                                                                                                                                                                                                     (a) Write an expression of magnetic moment associated with a  current (I) carrying circular coil of radius r having N turns.  (b) Consider the above mentioned coil placed in YZ plane with its centre at the origin. Derive expression for the value of magnetic field due to it at point (x, 0, 0). 3 OR (a) Define current sensitivity of a galvanometer. Write its expression. (b) A galvanometer has resistance G and shows full scale deflection for  current Ig. (i) How can it be converted into an ammeter to measure current up to I0 (I0 > Ig) ? (ii) What is the effective resistance of this ammeter ? 3   \n",
       "34                                                                                                                                                                                                                                                                                                                                                                                                                                                                                                                                                                                                                                                                                                                                                                                                                                                      The nucleus , initially at rest, decays into  by emitting an  -particle    + energy.  The binding energies per nucleon of the parent nucleus, the daughter nucleus and -particle are 7·8 MeV,  7·835 MeV and 7·07 MeV, respectively. Assuming the daughter nucleus to be formed in the unexcited state and neglecting its share in the energy of the reaction, find the speed of the emitted -particle. (Mass of -particle = 6·68  1027 kg) 3          \n",
       "35                                                                     (a) Derive the expression for the torque acting on the rectangular current carrying coil of a galvanometer. Why is the magnetic field made radial ? (b) An -particle is accelerated through a potential difference of 10 kV and moves along x-axis. It enters in a region of uniform magnetic field B = 2  103 T acting along y-axis. Find the radius of its path. (Take mass of -particle = 6·4  1027 kg ) 5 OR (a) With the help of a labelled diagram, explain the working of a  step-up transformer. Give reasons to explain the following : (i) The core of the transformer is laminated. (ii) Thick copper wire is used in windings. (b) A conducting rod PQ of length 20 cm and resistance 0·1  rests on two smooth parallel rails of negligible resistance AA and CC. It can slide on the rails and the arrangement is positioned between the poles of a permanent magnet producing uniform magnetic field  B = 0·4 T. The rails, the rod and the magnetic field are in three mutually perpendicular directions as shown in the figure. If the ends A and C of the rails are short circuited, find the (i) external force required to move the rod with uniform velocity v = 10 cm/s, and (ii) power required to do so. 5       \n",
       "36                                                                                                                                                                                                                                                                                                                    (a) Draw the ray diagram of an astronomical telescope when the final image is formed at infinity. Write the expression for the resolving power of the telescope.     (b) An astronomical telescope has an objective lens of focal length  20 m and eyepiece of focal length 1 cm. (i) Find the angular magnification of the telescope. (ii) If this telescope is used to view the Moon, find the diameter of the image formed by the objective lens. Given the diameter of the Moon is 3·5  106 m and radius of lunar orbit is 3·8  108 m. 5 OR (a) An object is placed in front of a concave mirror. It is observed that a virtual image is formed. Draw the ray diagram to show the image formation and hence derive the mirror equation .  (b) An object is placed 30 cm in front of a plano-convex lens with its spherical surface of radius of curvature 20 cm. If the refractive index of the material of the lens is 1·5, find the position and nature of the image formed.   5   \n",
       "37   (a) Using Gauss law, derive expression for electric field due to a spherical shell of uniform charge distribution  and radius R at a point lying at a distance x from the centre of shell, such that (i) 0 < x < R, and (ii) x > R. (b) An electric field is uniform and acts along + x direction in the region of positive x. It is also uniform  with the same magnitude but acts in  x direction in the region of negative x. The value of the field is  E = 200 N/C for x > 0 and E =  200 N/C for x < 0. A right circular cylinder of length 20 cm and radius 5 cm has its centre at the origin and its axis along the x-axis so that one flat face is at x = + 10 cm and the other is at x =  10 cm.  Find : (i) The net outward flux through the cylinder. (ii) The net charge present inside the cylinder. 5 OR     (a) Find the expression for the potential energy of a system of two point charges q1 and q2 located at  and , respectively in an external electric field . (b) Draw equipotential surfaces due to an isolated point charge ( q) and depict the electric field lines. (c) Three point charges + 1 C,  1 C and + 2 C are initially infinite distance apart. Calculate the work done in assembling these charges at the vertices of an equilateral triangle of side 10 cm. 5     \n",
       "\n",
       "    marks  subject          question_tag  \n",
       "ID                                        \n",
       "1       1  physics  very_short_questions  \n",
       "2       1  physics  very_short_questions  \n",
       "3       1  physics  very_short_questions  \n",
       "4       1  physics  very_short_questions  \n",
       "5       1  physics  very_short_questions  \n",
       "6       1  physics  very_short_questions  \n",
       "7       1  physics  very_short_questions  \n",
       "8       1  physics  very_short_questions  \n",
       "9       1  physics  very_short_questions  \n",
       "10      1  physics  very_short_questions  \n",
       "11      1  physics  very_short_questions  \n",
       "12      1  physics  very_short_questions  \n",
       "13      1  physics  very_short_questions  \n",
       "14      1  physics  very_short_questions  \n",
       "15      1  physics  very_short_questions  \n",
       "16      1  physics  very_short_questions  \n",
       "17      1  physics  very_short_questions  \n",
       "18      1  physics  very_short_questions  \n",
       "19      1  physics  very_short_questions  \n",
       "20      1  physics  very_short_questions  \n",
       "21      2  physics       short_questions  \n",
       "22      2  physics       short_questions  \n",
       "23      2  physics       short_questions  \n",
       "24      2  physics       short_questions  \n",
       "25      2  physics       short_questions  \n",
       "26      2  physics       short_questions  \n",
       "27      2  physics       short_questions  \n",
       "28      3  physics        long_questions  \n",
       "29      3  physics        long_questions  \n",
       "30      3  physics        long_questions  \n",
       "31      3  physics        long_questions  \n",
       "32      3  physics        long_questions  \n",
       "33      3  physics        long_questions  \n",
       "34      3  physics        long_questions  \n",
       "35      5  physics   very_long_questions  \n",
       "36      5  physics   very_long_questions  \n",
       "37      5  physics   very_long_questions  "
      ]
     },
     "execution_count": 26,
     "metadata": {},
     "output_type": "execute_result"
    }
   ],
   "source": [
    "df"
   ]
  },
  {
   "cell_type": "code",
   "execution_count": 176,
   "id": "fbb8bcdd",
   "metadata": {
    "scrolled": true
   },
   "outputs": [
    {
     "name": "stdout",
     "output_type": "stream",
     "text": [
      "Physics/55-1-1 Physics.pdf\n",
      "Physics/55-1-2 Physics.pdf\n",
      "Physics/55-1-3 Physics.pdf\n",
      "Physics/55-2-1 Physics.pdf\n",
      "Physics/55-2-2 Physics.pdf\n",
      "Physics/55-2-3 Physics.pdf\n",
      "Physics/55-3-1 Physics.pdf\n",
      "Physics/55-3-2 Physics.pdf\n",
      "Physics/55-3-3 Physics.pdf\n",
      "Physics/56-3-1 Chemistry.pdf\n",
      "Physics/56-3-2 Chemistry.pdf\n",
      "Physics/56-3-3 Chemistry.pdf\n",
      "File count: 12\n"
     ]
    }
   ],
   "source": [
    "set_of_questions=[]\n",
    "count = 0\n",
    "dir_path = r'Physics'\n",
    "for path in os.listdir(dir_path):\n",
    "    file_path = dir_path+'/'+path\n",
    "    print(file_path)\n",
    "    all_questions = all_in_one(file_path)\n",
    "    for questions in all_questions:\n",
    "#         print(questions)\n",
    "        set_of_questions.append(questions)\n",
    "    count+=1\n",
    "print('File count:', count)    "
   ]
  },
  {
   "cell_type": "code",
   "execution_count": null,
   "id": "9f2ac2ac",
   "metadata": {},
   "outputs": [],
   "source": []
  },
  {
   "cell_type": "code",
   "execution_count": 177,
   "id": "ada3b593",
   "metadata": {},
   "outputs": [],
   "source": [
    "data = pd.DataFrame(set_of_questions , columns = ['question_text','marks','subject','question_tag'], index = range(1,len(set_of_questions)+1))\n",
    "# data.index.name = 'question_id'"
   ]
  },
  {
   "cell_type": "code",
   "execution_count": 178,
   "id": "544cd6d2",
   "metadata": {},
   "outputs": [
    {
     "data": {
      "text/html": [
       "<div>\n",
       "<style scoped>\n",
       "    .dataframe tbody tr th:only-of-type {\n",
       "        vertical-align: middle;\n",
       "    }\n",
       "\n",
       "    .dataframe tbody tr th {\n",
       "        vertical-align: top;\n",
       "    }\n",
       "\n",
       "    .dataframe thead th {\n",
       "        text-align: right;\n",
       "    }\n",
       "</style>\n",
       "<table border=\"1\" class=\"dataframe\">\n",
       "  <thead>\n",
       "    <tr style=\"text-align: right;\">\n",
       "      <th></th>\n",
       "      <th>question_text</th>\n",
       "      <th>marks</th>\n",
       "      <th>subject</th>\n",
       "      <th>question_tag</th>\n",
       "    </tr>\n",
       "  </thead>\n",
       "  <tbody>\n",
       "    <tr>\n",
       "      <th>1</th>\n",
       "      <td>If the net electric flux through a closed surface is zero, then we can infer 1 (A) no net charge is enclosed by the surface. (B) uniform electric field exists within the surface. (C) electric potential varies from point to point inside the surface. (D) charge is present inside the surface.</td>\n",
       "      <td>1</td>\n",
       "      <td>physics</td>\n",
       "      <td>very_short_questions</td>\n",
       "    </tr>\n",
       "    <tr>\n",
       "      <th>2</th>\n",
       "      <td>An electric dipole consisting of charges + q and  q separated by a distance L is in stable equilibrium in a uniform electric field . The electrostatic potential energy of the dipole is 1 (A) qLE (B) zero (C)  qLE (D)  2 qEL</td>\n",
       "      <td>1</td>\n",
       "      <td>physics</td>\n",
       "      <td>very_short_questions</td>\n",
       "    </tr>\n",
       "    <tr>\n",
       "      <th>3</th>\n",
       "      <td>A potentiometer can measure emf of a cell because 1 (A) the sensitivity of potentiometer is large. (B) no current is drawn from the cell at balance. (C) no current flows in the wire of potentiometer at balance.  (D) internal resistance of cell is neglected.</td>\n",
       "      <td>1</td>\n",
       "      <td>physics</td>\n",
       "      <td>very_short_questions</td>\n",
       "    </tr>\n",
       "    <tr>\n",
       "      <th>4</th>\n",
       "      <td>Two resistors R1 and R2 of 4  and 6  are connected in parallel across a battery. The ratio of power dissipated in them, P1 : P2 will be  1 (A) 4 : 9 (B) 3 : 2 (C) 9 : 4 (D) 2 : 3</td>\n",
       "      <td>1</td>\n",
       "      <td>physics</td>\n",
       "      <td>very_short_questions</td>\n",
       "    </tr>\n",
       "    <tr>\n",
       "      <th>5</th>\n",
       "      <td>The magnetic dipole moment of a current carrying coil does not depend upon   1 (A) number of turns of the coil. (B) cross-sectional area of the coil. (C) current flowing in the coil. (D) material of the turns of the coil.</td>\n",
       "      <td>1</td>\n",
       "      <td>physics</td>\n",
       "      <td>very_short_questions</td>\n",
       "    </tr>\n",
       "  </tbody>\n",
       "</table>\n",
       "</div>"
      ],
      "text/plain": [
       "                                                                                                                                                                                                                                                                                        question_text  \\\n",
       "1  If the net electric flux through a closed surface is zero, then we can infer 1 (A) no net charge is enclosed by the surface. (B) uniform electric field exists within the surface. (C) electric potential varies from point to point inside the surface. (D) charge is present inside the surface.   \n",
       "2                                                                     An electric dipole consisting of charges + q and  q separated by a distance L is in stable equilibrium in a uniform electric field . The electrostatic potential energy of the dipole is 1 (A) qLE (B) zero (C)  qLE (D)  2 qEL   \n",
       "3                                   A potentiometer can measure emf of a cell because 1 (A) the sensitivity of potentiometer is large. (B) no current is drawn from the cell at balance. (C) no current flows in the wire of potentiometer at balance.  (D) internal resistance of cell is neglected.   \n",
       "4                                                                                                             Two resistors R1 and R2 of 4  and 6  are connected in parallel across a battery. The ratio of power dissipated in them, P1 : P2 will be  1 (A) 4 : 9 (B) 3 : 2 (C) 9 : 4 (D) 2 : 3        \n",
       "5                                                                       The magnetic dipole moment of a current carrying coil does not depend upon   1 (A) number of turns of the coil. (B) cross-sectional area of the coil. (C) current flowing in the coil. (D) material of the turns of the coil.   \n",
       "\n",
       "   marks  subject          question_tag  \n",
       "1      1  physics  very_short_questions  \n",
       "2      1  physics  very_short_questions  \n",
       "3      1  physics  very_short_questions  \n",
       "4      1  physics  very_short_questions  \n",
       "5      1  physics  very_short_questions  "
      ]
     },
     "execution_count": 178,
     "metadata": {},
     "output_type": "execute_result"
    }
   ],
   "source": [
    "data.head()"
   ]
  },
  {
   "cell_type": "code",
   "execution_count": 179,
   "id": "fa3eb0a3",
   "metadata": {},
   "outputs": [],
   "source": [
    "import mysql.connector as myc"
   ]
  },
  {
   "cell_type": "code",
   "execution_count": null,
   "id": "1f99fa8f",
   "metadata": {},
   "outputs": [],
   "source": [
    "\n"
   ]
  },
  {
   "cell_type": "code",
   "execution_count": 180,
   "id": "63928b9b",
   "metadata": {
    "scrolled": true
   },
   "outputs": [
    {
     "name": "stdout",
     "output_type": "stream",
     "text": [
      "!!!  CONNECTED  !!!\n"
     ]
    }
   ],
   "source": [
    "mydb = myc.connect(host='127.0.0.1', user='root', passwd='ag12122',auth_plugin='mysql_native_password')\n",
    "\n",
    "if mydb.is_connected()==True:\n",
    "    print('!!!  CONNECTED  !!!')"
   ]
  },
  {
   "cell_type": "code",
   "execution_count": 181,
   "id": "11761fb3",
   "metadata": {},
   "outputs": [],
   "source": [
    "mycursor = mydb.cursor()\n",
    "mycursor.execute('use questions;')"
   ]
  },
  {
   "cell_type": "code",
   "execution_count": 182,
   "id": "02b6a640",
   "metadata": {},
   "outputs": [],
   "source": [
    "mycursor.execute(\"CREATE DATABASE IF NOT EXISTS questions\")"
   ]
  },
  {
   "cell_type": "code",
   "execution_count": 183,
   "id": "3ddb9acc",
   "metadata": {
    "scrolled": true
   },
   "outputs": [
    {
     "name": "stdout",
     "output_type": "stream",
     "text": [
      "('empdb1',)\n",
      "('information_schema',)\n",
      "('invoicing',)\n",
      "('mysql',)\n",
      "('performance_schema',)\n",
      "('questions',)\n",
      "('sakila',)\n",
      "('sql_hr',)\n",
      "('sql_inventory',)\n",
      "('sql_invoicing',)\n",
      "('sql_store',)\n",
      "('store',)\n",
      "('sys',)\n",
      "('world',)\n"
     ]
    }
   ],
   "source": [
    "mycursor.execute('SHOW DATABASES;')\n",
    "for db in mycursor:\n",
    "    print(db)"
   ]
  },
  {
   "cell_type": "code",
   "execution_count": 184,
   "id": "3b3c0cad",
   "metadata": {
    "run_control": {
     "marked": true
    }
   },
   "outputs": [],
   "source": [
    "def create_table(mycursor):\n",
    "    mycursor.execute('use questions;')\n",
    "    create_table_command = (\"\"\"CREATE TABLE IF NOT EXISTS physics_questions(\n",
    "                            question_id  int Auto_increment not null  primary key,\n",
    "                            question_text nvarchar(20000) not null,\n",
    "                            marks int not null,\n",
    "                            subject nvarchar(255) not null,\n",
    "                            question_tag nvarchar(255) not null\n",
    "                            );\"\"\")\n",
    "    mycursor.execute(create_table_command)\n",
    "    mydb.commit()"
   ]
  },
  {
   "cell_type": "code",
   "execution_count": 185,
   "id": "15bb2392",
   "metadata": {},
   "outputs": [],
   "source": [
    "create_table(mycursor)"
   ]
  },
  {
   "cell_type": "code",
   "execution_count": 186,
   "id": "c6cf2a15",
   "metadata": {},
   "outputs": [],
   "source": [
    "# check Question exists or not \n",
    "\n"
   ]
  },
  {
   "cell_type": "code",
   "execution_count": 187,
   "id": "760029c5",
   "metadata": {
    "scrolled": true
   },
   "outputs": [],
   "source": [
    "def check_if_question_exists(mycursor, question_text):\n",
    "\n",
    "    mycursor.execute(\"\"\"SELECT * FROM physics_questions WHERE `question_text` LIKE '%{}%';\"\"\".format(question_text))\n",
    "    \n",
    "    return mycursor.fetchone() is not None"
   ]
  },
  {
   "cell_type": "code",
   "execution_count": 188,
   "id": "720feff7",
   "metadata": {
    "run_control": {
     "marked": true
    }
   },
   "outputs": [],
   "source": [
    "def insert_into(mycursor,question_text,marks,subject,question_tag):\n",
    "    insert_into_table = (\"\"\"INSERT INTO physics_questions(question_text,marks,subject,question_tag) \n",
    "    VALUES (%s,%s,%s,%s);\"\"\")\n",
    "    rows = (question_text,marks,subject,question_tag)\n",
    "    mycursor.execute(insert_into_table,rows)\n",
    "    mydb.commit()"
   ]
  },
  {
   "cell_type": "code",
   "execution_count": 191,
   "id": "b0f5c519",
   "metadata": {},
   "outputs": [],
   "source": [
    "for i,row in data.iterrows():\n",
    "    mydb = myc.connect(host='127.0.0.1', user='root', passwd='ag12122',auth_plugin='mysql_native_password')\n",
    "\n",
    "    if mydb.is_connected()!=True:\n",
    "        print('!!!  ERROR  !!!')\n",
    "        \n",
    "    mycursor = mydb.cursor()\n",
    "    mycursor.execute('use questions;')\n",
    "    \n",
    "    text =row['question_text'][:len(row['question_text'])*2//3]\n",
    "    \n",
    "    if check_if_question_exists(mycursor, text):\n",
    "        pass\n",
    "    else :\n",
    "        insert_into(mycursor,row['question_text'],row['marks'],row['subject'],row['question_tag'])\n"
   ]
  },
  {
   "cell_type": "code",
   "execution_count": 111,
   "id": "d8ccb6d1",
   "metadata": {
    "scrolled": true
   },
   "outputs": [
    {
     "data": {
      "text/plain": [
       "'If the net electric flux through a closed surface is zero, then we can infer 1 (A) no net charge is enclosed by the surface. (B) uniform electric'"
      ]
     },
     "execution_count": 111,
     "metadata": {},
     "output_type": "execute_result"
    }
   ],
   "source": [
    "data['question_text'][1][:len(data['question_text'][1])//2]"
   ]
  },
  {
   "cell_type": "code",
   "execution_count": 152,
   "id": "10d8fd2e",
   "metadata": {},
   "outputs": [
    {
     "data": {
      "text/plain": [
       "True"
      ]
     },
     "execution_count": 152,
     "metadata": {},
     "output_type": "execute_result"
    }
   ],
   "source": [
    "check_if_question_exists(mycursor, data['question_text'][1][:len(data['question_text'][1])//2])"
   ]
  },
  {
   "cell_type": "code",
   "execution_count": 79,
   "id": "fe61c168",
   "metadata": {
    "scrolled": true
   },
   "outputs": [],
   "source": [
    "# for i,row in data.iterrows():\n",
    "#     insert_into(mycursor,row['question_text'],row['marks'],row['subject'],row['question_tag'])"
   ]
  },
  {
   "cell_type": "code",
   "execution_count": 192,
   "id": "3cdd08cd",
   "metadata": {
    "scrolled": true
   },
   "outputs": [],
   "source": [
    "mycursor.execute('select * from physics_questions where question_id =333 ;')\n",
    "for db in mycursor:\n",
    "    print(db)"
   ]
  },
  {
   "cell_type": "code",
   "execution_count": null,
   "id": "49db9f97",
   "metadata": {},
   "outputs": [],
   "source": []
  },
  {
   "cell_type": "code",
   "execution_count": null,
   "id": "0111e7a1",
   "metadata": {},
   "outputs": [],
   "source": []
  }
 ],
 "metadata": {
  "kernelspec": {
   "display_name": "Python 3 (ipykernel)",
   "language": "python",
   "name": "python3"
  },
  "language_info": {
   "codemirror_mode": {
    "name": "ipython",
    "version": 3
   },
   "file_extension": ".py",
   "mimetype": "text/x-python",
   "name": "python",
   "nbconvert_exporter": "python",
   "pygments_lexer": "ipython3",
   "version": "3.8.12"
  },
  "latex_envs": {
   "LaTeX_envs_menu_present": true,
   "autoclose": true,
   "autocomplete": true,
   "bibliofile": "biblio.bib",
   "cite_by": "apalike",
   "current_citInitial": 1,
   "eqLabelWithNumbers": true,
   "eqNumInitial": 1,
   "hotkeys": {
    "equation": "Ctrl-E",
    "itemize": "Ctrl-I"
   },
   "labels_anchors": false,
   "latex_user_defs": false,
   "report_style_numbering": false,
   "user_envs_cfg": false
  },
  "varInspector": {
   "cols": {
    "lenName": 16,
    "lenType": 16,
    "lenVar": 40
   },
   "kernels_config": {
    "python": {
     "delete_cmd_postfix": "",
     "delete_cmd_prefix": "del ",
     "library": "var_list.py",
     "varRefreshCmd": "print(var_dic_list())"
    },
    "r": {
     "delete_cmd_postfix": ") ",
     "delete_cmd_prefix": "rm(",
     "library": "var_list.r",
     "varRefreshCmd": "cat(var_dic_list()) "
    }
   },
   "types_to_exclude": [
    "module",
    "function",
    "builtin_function_or_method",
    "instance",
    "_Feature"
   ],
   "window_display": false
  }
 },
 "nbformat": 4,
 "nbformat_minor": 5
}
