{
 "cells": [
  {
   "cell_type": "code",
   "execution_count": 2,
   "id": "f40e8a07",
   "metadata": {},
   "outputs": [],
   "source": [
    "from PyPDF2 import PdfFileReader , PdfFileWriter\n",
    "from pathlib import Path\n",
    "\n",
    "import spacy\n",
    "import re\n",
    "from spacy.language import Language"
   ]
  },
  {
   "cell_type": "code",
   "execution_count": 3,
   "id": "87f893ae",
   "metadata": {},
   "outputs": [
    {
     "data": {
      "text/plain": [
       "{'/Author': 'admin',\n",
       " '/Creator': 'Microsoft® Word 2013',\n",
       " '/CreationDate': \"D:20200106161519+05'30'\",\n",
       " '/ModDate': \"D:20200106161519+05'30'\",\n",
       " '/Producer': 'Microsoft® Word 2013'}"
      ]
     },
     "execution_count": 3,
     "metadata": {},
     "output_type": "execute_result"
    }
   ],
   "source": [
    "pdf = PdfFileReader('Physics/55-1-1 Physics.pdf')\n",
    "pdf.documentInfo"
   ]
  },
  {
   "cell_type": "code",
   "execution_count": 4,
   "id": "7ce3ba46",
   "metadata": {},
   "outputs": [
    {
     "data": {
      "text/plain": [
       "23"
      ]
     },
     "execution_count": 4,
     "metadata": {},
     "output_type": "execute_result"
    }
   ],
   "source": [
    "pdf.getNumPages()"
   ]
  },
  {
   "cell_type": "code",
   "execution_count": 5,
   "id": "a340871c",
   "metadata": {},
   "outputs": [
    {
     "name": "stdout",
     "output_type": "stream",
     "text": [
      "{'/Type': '/Page', '/Parent': IndirectObject(2, 0), '/Resources': {'/Font': {'/F1': IndirectObject(5, 0), '/F2': IndirectObject(7, 0), '/F3': IndirectObject(9, 0), '/F10': IndirectObject(27, 0), '/F8': IndirectObject(23, 0), '/F25': IndirectObject(112, 0), '/F14': IndirectObject(38, 0), '/F23': IndirectObject(72, 0)}, '/XObject': {'/Meta11': IndirectObject(11, 0), '/Image118': IndirectObject(118, 0), '/Meta114': IndirectObject(114, 0), '/Meta115': IndirectObject(115, 0)}, '/ProcSet': ['/PDF', '/Text', '/ImageB', '/ImageC', '/ImageI']}, '/MediaBox': [0, 0, 523.44, 693.36], '/Contents': IndirectObject(117, 0), '/Group': {'/Type': '/Group', '/S': '/Transparency', '/CS': '/DeviceRGB'}, '/Tabs': '/S', '/StructParents': 10}\n"
     ]
    }
   ],
   "source": [
    "page_1_object = pdf.getPage(10) # 0 is for page no 1\n",
    "print(page_1_object)"
   ]
  },
  {
   "cell_type": "code",
   "execution_count": 7,
   "id": "e065e9a7",
   "metadata": {},
   "outputs": [
    {
     "data": {
      "text/plain": [
       "' \\n \\n.\\n55\\n/\\n1\\n/1\\n \\n11\\n \\nP.T.O.\\n \\n1\\n9\\n.\\n \\nThe variation of the stopping potential (V\\no\\n) with the frequency (\\nv\\n) of the \\nlight incident on two different photosensitive surfaces M\\n1\\n \\nand M\\n2\\n \\nis \\nshown in the figure. Identify the surface which has g\\nreater value of the \\nwork function.\\n \\n1\\n \\n \\n \\n20\\n.\\n \\nWhy cannot we use Si and Ge in fabrication of visible LEDs ?\\n \\n1\\n \\nSECTION B\\n \\n2\\n1\\n.\\n \\nExplain the principle of working of a meter bridge. Draw the circuit \\ndiagram for determination of an unknown resistan\\nce using it. \\n \\n2\\n \\n2\\n2\\n.\\n \\nThe space between the plates of a parallel plate capacitor is completely \\nfilled in two ways. In the first case, it is filled with a slab of dielectric \\nconstant K. In the second case, it is filled with two slabs of equal \\nthickness and di\\nelectric constants K\\n1\\n \\nand K\\n2\\n \\nrespectively as shown in the \\nfigure. The capacitance of the capacitor is same in the two cases. Obtain \\nthe relationship between K, K\\n1\\n \\nand K\\n2\\n.\\n \\n2\\n \\n \\n \\n \\n \\n   \\n(Case 1)                                                 \\n \\n \\n(Case 2)\\n \\n2\\n3\\n.\\n \\n\\n-\\n\\nradioactive substances have half\\n-\\nlives T\\n1\\n \\nand T\\n2\\n \\nand number of \\nundecayed atoms at an instant\\n,\\n \\nN\\n1\\n \\nand N\\n2\\n, respectively. Find the ratio of \\ntheir activities at that instant. \\n \\n2\\n \\n'"
      ]
     },
     "execution_count": 7,
     "metadata": {},
     "output_type": "execute_result"
    }
   ],
   "source": [
    "page_1_object.extractText()"
   ]
  },
  {
   "cell_type": "code",
   "execution_count": 9,
   "id": "8090a486",
   "metadata": {},
   "outputs": [],
   "source": [
    "page_text = ''\n",
    "\n",
    "for i in range(2,pdf.getNumPages(),2):\n",
    "#     print(i)\n",
    "    page_object = pdf.getPage(i)\n",
    "    text_1= page_object.extractText()\n",
    "    page_text = page_text+text_1\n"
   ]
  },
  {
   "cell_type": "code",
   "execution_count": null,
   "id": "5129375f",
   "metadata": {},
   "outputs": [],
   "source": []
  },
  {
   "cell_type": "code",
   "execution_count": 11,
   "id": "4081b747",
   "metadata": {},
   "outputs": [],
   "source": [
    "text = re.sub(r'\\n|\\\\n','',page_text)\n"
   ]
  },
  {
   "cell_type": "code",
   "execution_count": 21,
   "id": "009883fc",
   "metadata": {},
   "outputs": [],
   "source": [
    "nlp = spacy.load('en_core_web_md')"
   ]
  },
  {
   "cell_type": "code",
   "execution_count": 22,
   "id": "0deb8129",
   "metadata": {},
   "outputs": [],
   "source": [
    "doc = nlp(text)"
   ]
  },
  {
   "cell_type": "code",
   "execution_count": 23,
   "id": "4cfc1489",
   "metadata": {},
   "outputs": [
    {
     "name": "stdout",
     "output_type": "stream",
     "text": [
      "  .55/1/1 3 P.T.O. General Instructions : Read the following instructions very carefully and strictly follow them : (i) \n",
      "\n",
      "This question paper comprises four Sections  A, B, C and D.  (ii) There are 37 questions in the question paper. \n",
      "\n",
      "All questions are compulsory. \n",
      "\n",
      "(iii) Section A  Questions no. 1 to 20 are very short answer type questions, carrying one mark each. \n",
      "\n",
      "(iv) Section B  Questions no. 21 to 27 are short answer type questions, carrying two marks each. \n",
      "\n",
      "(v) Section C  Questions no. 28 to 34 are long answer type questions, carrying three marks each. \n",
      "\n",
      "(vi) Section D  Questions no. 35 to 37 are also long answer type questions, carrying five marks each. \n",
      "\n",
      "(vii) There is no overall choice in the question paper. \n",
      "\n",
      "However, an internal choice has been provided in 2 questions of 1 mark, 2 questions of  2 marks, 1 question of three marks and all the 3 questions of five marks. \n",
      "\n",
      "You have to attempt only one of the choices in such questions. \n",
      "\n",
      "(viii) \n",
      "\n",
      "In addition to this, separate instructions are given with each section and question, wherever necessary. \n",
      "\n",
      "(ix) Use of calculators and log tables is not permitted. \n",
      "\n",
      " (x) You may use the following values of physical constants wherever necessary. \n",
      "\n",
      " c = 3  108 m/s  h = 6.63  1034 Js  e = 1.6  1019 C  0 = 4  107 T m A1  0 = 8.854  1012 C2 N1 m2 \n",
      "\n",
      "   = 9  109 N m2 C2  Mass of electron (me) = 9.1  1031 kg  Mass of neutron = 1.675  1027 kg  Mass of proton = 1.673  1027 kg \n",
      "\n",
      " s number = 6.023  1023 per gram mole  Boltzmann constant = 1.38  1023 JK1   .55/1/1 5 P.T.O. SECTION A Note :  Select the most appropriate option from those given below each  question : 1. \n",
      "\n",
      "If the net electric flux through a closed surface is zero, then we can infer 1 (A) no net charge is enclosed by the surface. \n",
      "\n",
      "(B) uniform electric field exists within the surface. \n",
      "\n",
      "(C) electric potential varies from point to point inside the surface. \n",
      "\n",
      "(D) charge is present inside the surface. \n",
      "\n",
      "2. \n",
      "\n",
      "An electric dipole consisting of charges + q and  q separated by a distance L is in stable equilibrium in a uniform electric field . \n",
      "\n",
      "The electrostatic potential energy of the dipole is 1 (A) qLE (B) zero \n",
      "\n",
      "(C)  qLE (D)  2 qEL 3. \n",
      "\n",
      "A potentiometer can measure emf of a cell because 1 (A) the sensitivity of potentiometer is large. \n",
      "\n",
      "(B) no current is drawn from the cell at balance. \n",
      "\n",
      "(C) no current flows in the wire of potentiometer at balance. \n",
      "\n",
      " (D) internal resistance of cell is neglected. \n",
      "\n",
      "4. \n",
      "\n",
      "Two resistors R1 and R2 of 4  and 6  are connected in parallel across a battery. \n",
      "\n",
      "The ratio of power dissipated in them, P1 : P2 will be  1 (A) 4 : 9 (B) 3 : 2 (C) 9 : 4 (D) 2 : 3   .55/1/1 7 P.T.O. 5. \n",
      "\n",
      "The magnetic dipole moment of a current carrying coil does not depend upon   1 (A) number of turns of the coil. \n",
      "\n",
      "(B) cross-sectional area of the coil. \n",
      "\n",
      "(C) current flowing in the coil. \n",
      "\n",
      "(D) material of the turns of the coil. \n",
      "\n",
      "6. \n",
      "\n",
      "Larger aperture of objective lens in an astronomical telescope 1 (A) increases the resolving power of telescope. \n",
      "\n",
      "(B) decreases the brightness of the image. \n",
      "\n",
      "(C) increases the size of the image. \n",
      "\n",
      "(D) decreases the length of the telescope. \n",
      "\n",
      "7. \n",
      "\n",
      "A biconvex lens of glass having refractive index 1·47 is immersed in a liquid. \n",
      "\n",
      "It becomes invisible and behaves as a plane glass plate. \n",
      "\n",
      "The refractive index of the liquid is 1 (A) 1·47 (B) 1·62 \n",
      "\n",
      "(C) 1·33 (D) 1·51 8. \n",
      "\n",
      "For a glass prism, the angle of minimum deviation will be smallest for the light of  1 (A) red colour. \n",
      "\n",
      "(B) blue colour. \n",
      "\n",
      "(C) yellow colour. \n",
      "\n",
      "(D) green colour. \n",
      "\n",
      "9. \n",
      "\n",
      "Which of the following statements is not correct according to Rutherford model ? \n",
      "\n",
      " 1 (A) Most of the space inside an atom is empty. \n",
      "\n",
      "(B) \n",
      "\n",
      "The electrons revolve around the nucleus under the influence of coulomb force acting on them. \n",
      "\n",
      "(C) Most part of the mass of the atom and its positive charge are concentrated at its centre. \n",
      "\n",
      "(D) \n",
      "\n",
      "The stability of atom was established by the model. \n",
      "\n",
      "  .55/1/1 9 P.T.O. 10. \n",
      "\n",
      "Photons of energies 1 eV and 2 eV are successively incident on a metallic surface of work function 0·5 eV. \n",
      "\n",
      "The ratio of kinetic energy of most energetic photoelectrons in the two cases will be 1 (A) 1 : 2 (B) 1 : 1 (C) 1 : 3 (D) 1 : 4 Note :  Fill in the blanks with appropriate answer : 11. \n",
      "\n",
      "The magnetic field and angle of dip at a place on the earth are 0·3 G and 30, respectively. \n",
      "\n",
      "The value of vertical component of the efield at the place is ___________ . \n",
      "\n",
      "1 12. \n",
      "\n",
      "Laminated iron sheets are used to minimize ___________  currents in the core of a transformer. \n",
      "\n",
      " 1 13. \n",
      "\n",
      "The number of turns of a solenoid are doubled without changing its length and area of cross-section. \n",
      "\n",
      "The self-inductance of the solenoid will become ___________ times. \n",
      "\n",
      "1 14. is always an ___________ multiple of de Broglie wavelength. \n",
      "\n",
      "1 OR  In -decay, the parent and daughter nuclei have the same number of _____________ . \n",
      "\n",
      " 1 15. \n",
      "\n",
      "A ray of light on passing through an equilateral glass prism, suffers a minimum deviation equal to the angle of the prism. \n",
      "\n",
      "The value of refractive index of the material of the prism is ___________ . \n",
      "\n",
      "1 Note :  Answer the following : 16. \n",
      "\n",
      "Write the mathematical form of Ampere-Maxwell circuital law. \n",
      "\n",
      "1 17. \n",
      "\n",
      "How does an increase in doping concentration affect the width of depletion layer of a p-n junction diode ? \n",
      "\n",
      "1 18. \n",
      "\n",
      "The nuclear radius of  is 3·6 fermi. \n",
      "\n",
      "Find the nuclear radius of . \n",
      "\n",
      "1 OR  A proton and an electron have equal speeds. \n",
      "\n",
      "Find the ratio of de Broglie wavelengths associated with them. \n",
      "\n",
      " 1   .55/1/1 11 P.T.O. 19. \n",
      "\n",
      "The variation of the stopping potential (Vo) with the frequency (v) of the light incident on two different photosensitive surfaces M1 and M2 is shown in the figure. \n",
      "\n",
      "Identify the surface which has greater value of the work function. \n",
      "\n",
      "1   20. \n",
      "\n",
      "Why cannot we use Si and Ge in fabrication of visible LEDs ? \n",
      "\n",
      "1 SECTION B 21. \n",
      "\n",
      "Explain the principle of working of a meter bridge. \n",
      "\n",
      "Draw the circuit diagram for determination of an unknown resistance using it. \n",
      "\n",
      " 2 22. \n",
      "\n",
      "The space between the plates of a parallel plate capacitor is completely filled in two ways. \n",
      "\n",
      "In the first case, it is filled with a slab of dielectric constant K. \n",
      "\n",
      "In the second case, it is filled with two slabs of equal thickness and dielectric constants K1 and K2 respectively as shown in the figure. \n",
      "\n",
      "The capacitance of the capacitor is same in the two cases. \n",
      "\n",
      "Obtain the relationship between K, K1 and K2. \n",
      "\n",
      "2        (Case 1)                                                   (Case 2) 23. \n",
      "\n",
      "-radioactive \n",
      "\n",
      "substances have half-lives T1 and T2 and number of undecayed atoms at an instant, N1 and N2, respectively. \n",
      "\n",
      "Find the ratio of their activities at that instant. \n",
      "\n",
      " 2   .55/1/1 13 P.T.O. 24. \n",
      "\n",
      "Define wavefront of a travelling wave. \n",
      "\n",
      "Using Huygens principle, obtain the law of refraction at a plane interface when light passes from a denser to rarer medium. \n",
      "\n",
      "  2 OR  e the thin lens formula  for a biconvex lens. \n",
      "\n",
      "2 25. \n",
      "\n",
      "Two long straight parallel wires A and B separated by a distance d, carry equal current I flowing in same direction as shown in the figure. \n",
      "\n",
      "      (a) Find the magnetic field at a point P situated between them at a distance x from one wire. \n",
      "\n",
      "(b) Show graphically the variation of the magnetic field with distance x for 0 < x < d. 2 26. \n",
      "\n",
      " nth orbit of the revolving electron in a hydrogen atom. \n",
      "\n",
      " 2 OR (a) Write two main observations of photoelectric effect experiment  (b) Draw a graph showing variation of photocurrent with the anode potential of a photocell. \n",
      "\n",
      "2 27. \n",
      "\n",
      " p-n junction diode. \n",
      "\n",
      "How are the (a) width of depletion layer, and  (b)  value of potential barrier affected when the p-n junction is forward  biased ? \n",
      "\n",
      " 2   .55/1/1 15 P.T.O. SECTION C 28. \n",
      "\n",
      " (a) Two cells of emf E1 and E2 have their  internal resistances r1 and r2, respectively. \n",
      "\n",
      "Deduce an expression for the equivalent emf and internal resistance of their parallel combination when connected across an external resistance R. Assume that the two cells are supporting each other. \n",
      "\n",
      "  (b) In case the two cells are identical, each of emf E = 5 V and internal resistance r = 2 , calculate the voltage across the external resistance R = 10 . \n",
      "\n",
      "  3 29. \n",
      "\n",
      "(a) Write an expression of magnetic moment associated with a current (I) carrying circular coil of radius r having N turns. \n",
      "\n",
      " (b) Consider the above mentioned coil placed in YZ plane with its centre at the origin. \n",
      "\n",
      "Derive expression for the value of magnetic field due to it at point (x, 0, 0). \n",
      "\n",
      "3 OR (a) Define current sensitivity of a galvanometer. \n",
      "\n",
      "Write its expression. \n",
      "\n",
      "(b) A galvanometer has resistance G and shows full scale deflection for current Ig. \n",
      "\n",
      "(i) \n",
      "\n",
      "How can it be converted into an ammeter to measure current up to I0 (I0 > Ig) ? \n",
      "\n",
      "(ii) \n",
      "\n",
      "What is the effective resistance of this ammeter ? \n",
      "\n",
      "3 30. \n",
      "\n",
      "A resistance R and a capacitor C are connected in series to a source V = V0 sin t.   Find :  (a) \n",
      "\n",
      "The peak value of the voltage across the (i) resistance and  (ii) capacitor. \n",
      "\n",
      " (b) The phase difference between the applied voltage and current. \n",
      "\n",
      "Which of them is ahead ? \n",
      "\n",
      "3 31. \n",
      "\n",
      "experiment due to each of the following operations ? \n",
      "\n",
      "Justify your answers. \n",
      "\n",
      " 3 (a) \n",
      "\n",
      "The screen is moved away from the plane of the slits. \n",
      "\n",
      "(b) \n",
      "\n",
      "The separation between slits is increased. \n",
      "\n",
      "(c) \n",
      "\n",
      "The source slit is moved closer to the plane of double slit. \n",
      "\n",
      "  .55/1/1 17 P.T.O. 32. (a) Write the expression for the speed of light in a material medium of relative permittivity r and relative magnetic permeability r.  (b) Write the wavelength range and name of the electromagnetic waves which are used in (i) radar systems for aircraft navigation, and (ii) Earth satellites to observe the growth of the crops. \n",
      "\n",
      "3 33. \n",
      "\n",
      "The nucleus , initially at rest, decays into  by emitting an  -particle    + energy. \n",
      "\n",
      " The binding energies per nucleon of the parent nucleus, the daughter nucleus and -particle are 7·8 MeV,  7·835 MeV and 7·07 MeV, respectively. \n",
      "\n",
      "Assuming the daughter nucleus to be formed in the unexcited state and neglecting its share in the energy of the reaction, find the speed of the emitted -particle. \n",
      "\n",
      "(Mass of -particle = 6·68  1027 kg) 3 34. \n",
      "\n",
      " (a) Draw circuit diagram and explain the working of a zener diode as a dc voltage regulator with the help of its I-V characteristic. \n",
      "\n",
      " (b) What is the purpose of heavy doping of p- and n-sides of a zener diode ? \n",
      "\n",
      "3 SECTION D 35. \n",
      "\n",
      " (a) Using Gauss law, derive expression for electric field due to a spherical shell of uniform charge distribution  and radius R at a point lying at a distance x from the centre of shell, such that (i) 0 \n",
      "\n",
      "< x < R, and (ii) x > R.   .55/1/1 19 P.T.O. (b) \n",
      "\n",
      "An electric field is uniform and acts along + \n",
      "\n",
      "x direction in the region of positive x. \n",
      "\n",
      "It is also uniform  with the same magnitude but acts in  x direction in the region of negative x. \n",
      "\n",
      "The value of the field is  E = 200 N/C for x > 0 and E =  200 N/C for x < 0. \n",
      "\n",
      "A right circular cylinder of length 20 cm and radius 5 cm has its centre at the origin and its axis along the x-axis so that one flat face is at x = \n",
      "\n",
      "+ 10 cm and the other is at x =  10 cm. \n",
      "\n",
      " Find : (i) \n",
      "\n",
      "The net outward flux through the cylinder. \n",
      "\n",
      "(ii) \n",
      "\n",
      "The net charge present inside the cylinder. \n",
      "\n",
      "5 OR (a) Find the expression for the potential energy of a system of two point charges q1 and q2 located at  and , respectively in an external electric field . \n",
      "\n",
      "(b) Draw equipotential surfaces due to an isolated point charge ( q) and depict the electric field lines. \n",
      "\n",
      "(c) Three point charges + 1 C,  1 C and + 2 C are initially infinite distance apart. \n",
      "\n",
      "Calculate the work done in assembling these charges at the vertices of an equilateral triangle of side 10 cm. \n",
      "\n",
      "5 36. \n",
      "\n",
      " (a) Derive the expression for the torque acting on the rectangular current carrying coil of a galvanometer. \n",
      "\n",
      "Why is the magnetic field made radial ? \n",
      "\n",
      "(b) \n",
      "\n",
      "An -particle is accelerated through a potential difference of 10 kV and moves along x-axis. \n",
      "\n",
      "It enters in a region of uniform magnetic field B = 2  103 T acting along y-axis. \n",
      "\n",
      "Find the radius of its path. \n",
      "\n",
      "(Take mass of -particle = 6·4  1027 kg ) 5 OR (a) With the help of a labelled diagram, explain the working of a  step-up transformer. \n",
      "\n",
      "Give reasons to explain the following : (i) \n",
      "\n",
      "The core of the transformer is laminated. \n",
      "\n",
      "(ii) \n",
      "\n",
      "Thick copper wire is used in windings. \n",
      "\n",
      "  .55/1/1 21 P.T.O. (b) A conducting rod PQ of length 20 cm and resistance 0·1  rests on two smooth parallel rails of negligible resistance AA and CC. \n",
      "\n",
      "It can slide on the rails and the arrangement is positioned between the poles of a permanent magnet producing uniform magnetic field  B = 0·4 \n",
      "\n",
      "T. \n",
      "\n",
      "The rails, the rod and the magnetic field are in three mutually perpendicular directions as shown in the figure. \n",
      "\n",
      "If the ends A and C of the rails are short circuited, find the (i) external force required to move the rod with uniform velocity v = 10 cm/s, and (ii) power required to do so. \n",
      "\n",
      "5      37. \n",
      "\n",
      " (a) Draw the ray diagram of an astronomical telescope when the final image is formed at infinity. \n",
      "\n",
      "Write the expression for the resolving power of the telescope. \n",
      "\n",
      "(b) An astronomical telescope has an objective lens of focal length  20 m and eyepiece of focal length 1 cm. \n",
      "\n",
      "(i) Find the angular magnification of the telescope. \n",
      "\n",
      "(ii) \n",
      "\n",
      "If this telescope is used to view the Moon, find the diameter of the image formed by the objective lens. \n",
      "\n",
      "Given the diameter of the Moon is 3·5  106 m and radius of lunar orbit is 3·8 \n",
      "\n",
      " 108 m. 5 OR   .55/1/1 23 P.T.O. (a) \n",
      "\n",
      "An object is placed in front of a concave mirror. \n",
      "\n",
      "It is observed that a virtual image is formed. \n",
      "\n",
      "Draw the ray diagram to show the image formation and hence derive the mirror equation . \n",
      "\n",
      " (b) An object is placed 30 cm in front of a plano-convex lens with its spherical surface of radius of curvature 20 cm. \n",
      "\n",
      "If the refractive index of the material of the lens is 1·5, find the position and nature of the image formed. \n",
      "\n",
      "  5   \n",
      "\n"
     ]
    }
   ],
   "source": [
    "for sent in doc.sents:\n",
    "    print(sent,'\\n')"
   ]
  },
  {
   "cell_type": "code",
   "execution_count": null,
   "id": "826bc33d",
   "metadata": {
    "scrolled": true
   },
   "outputs": [],
   "source": []
  },
  {
   "cell_type": "code",
   "execution_count": 24,
   "id": "249f8be7",
   "metadata": {},
   "outputs": [
    {
     "data": {
      "text/plain": [
       "['tok2vec', 'tagger', 'parser', 'attribute_ruler', 'lemmatizer', 'ner']"
      ]
     },
     "execution_count": 24,
     "metadata": {},
     "output_type": "execute_result"
    }
   ],
   "source": [
    "nlp.pipe_names"
   ]
  },
  {
   "cell_type": "code",
   "execution_count": 26,
   "id": "a339c9cc",
   "metadata": {
    "scrolled": true
   },
   "outputs": [
    {
     "name": "stdout",
     "output_type": "stream",
     "text": [
      "I like salty fries and hamburgers. <-> Fast food tastes very good. 0.7687607012190486\n"
     ]
    }
   ],
   "source": [
    "import spacy\n",
    "\n",
    "nlp = spacy.load(\"en_core_web_lg\")  # make sure to use larger package!\n",
    "doc1 = nlp(\"I like salty fries and hamburgers.\")\n",
    "doc2 = nlp(\"Fast food tastes very good.\")\n",
    "\n",
    "# Similarity of two documents\n",
    "print(doc1, \"<->\", doc2, doc1.similarity(doc2))\n",
    "# Similarity of tokens and spans\n",
    "french_fries = doc1[2:4]\n",
    "burgers = doc1[5]"
   ]
  },
  {
   "cell_type": "code",
   "execution_count": 27,
   "id": "af30cdfa",
   "metadata": {},
   "outputs": [
    {
     "name": "stdout",
     "output_type": "stream",
     "text": [
      "dog True 7.0336733 False\n",
      "cat True 6.6808186 False\n",
      "banana True 6.700014 False\n",
      "afskfsd False 0.0 True\n"
     ]
    }
   ],
   "source": [
    "nlp = spacy.load(\"en_core_web_md\")\n",
    "tokens = nlp(\"dog cat banana afskfsd\")\n",
    "\n",
    "for token in tokens:\n",
    "    print(token.text, token.has_vector, token.vector_norm, token.is_oov)"
   ]
  },
  {
   "cell_type": "code",
   "execution_count": null,
   "id": "31bfa2a8",
   "metadata": {},
   "outputs": [],
   "source": []
  }
 ],
 "metadata": {
  "kernelspec": {
   "display_name": "Python 3 (ipykernel)",
   "language": "python",
   "name": "python3"
  },
  "language_info": {
   "codemirror_mode": {
    "name": "ipython",
    "version": 3
   },
   "file_extension": ".py",
   "mimetype": "text/x-python",
   "name": "python",
   "nbconvert_exporter": "python",
   "pygments_lexer": "ipython3",
   "version": "3.8.12"
  },
  "latex_envs": {
   "LaTeX_envs_menu_present": true,
   "autoclose": true,
   "autocomplete": true,
   "bibliofile": "biblio.bib",
   "cite_by": "apalike",
   "current_citInitial": 1,
   "eqLabelWithNumbers": true,
   "eqNumInitial": 1,
   "hotkeys": {
    "equation": "Ctrl-E",
    "itemize": "Ctrl-I"
   },
   "labels_anchors": false,
   "latex_user_defs": false,
   "report_style_numbering": false,
   "user_envs_cfg": false
  },
  "varInspector": {
   "cols": {
    "lenName": 16,
    "lenType": 16,
    "lenVar": 40
   },
   "kernels_config": {
    "python": {
     "delete_cmd_postfix": "",
     "delete_cmd_prefix": "del ",
     "library": "var_list.py",
     "varRefreshCmd": "print(var_dic_list())"
    },
    "r": {
     "delete_cmd_postfix": ") ",
     "delete_cmd_prefix": "rm(",
     "library": "var_list.r",
     "varRefreshCmd": "cat(var_dic_list()) "
    }
   },
   "types_to_exclude": [
    "module",
    "function",
    "builtin_function_or_method",
    "instance",
    "_Feature"
   ],
   "window_display": false
  }
 },
 "nbformat": 4,
 "nbformat_minor": 5
}
